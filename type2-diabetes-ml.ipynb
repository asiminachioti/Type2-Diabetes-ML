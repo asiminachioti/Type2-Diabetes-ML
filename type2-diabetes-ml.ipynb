{
 "cells": [
  {
   "cell_type": "markdown",
   "id": "c2583d06-1734-4bca-8b96-89cbb7f65321",
   "metadata": {},
   "source": [
    "# Predicting Type 2 Diabetes 🩺💉\n",
    "\n",
    "In this notebook, we use the Pima Indians Diabetes Dataset to:\n",
    "\n",
    "1. Perform EDA and data preprocessing  \n",
    "2. Train & evaluate Decision Tree and Random Forest classifiers  \n",
    "3. Compare model performance using accuracy, confusion matrix & classification report\n",
    "\n",
    "Let's dive in! 🚀"
   ]
  },
  {
   "cell_type": "markdown",
   "id": "40afe33b-bff1-4fe8-88ce-33f7201a4b63",
   "metadata": {},
   "source": [
    "#### 📦 Let's begin by importing the required libraries."
   ]
  },
  {
   "cell_type": "code",
   "execution_count": 1,
   "id": "21e7338a-83f9-44e1-b316-ece5100e1250",
   "metadata": {},
   "outputs": [],
   "source": [
    "# Data manipulation and analysis\n",
    "import pandas as pd\n",
    "import numpy as np\n",
    "\n",
    "# Data visualization\n",
    "import matplotlib.pyplot as plt\n",
    "import seaborn as sns"
   ]
  },
  {
   "cell_type": "markdown",
   "id": "1f8edb03-01c0-4e00-958e-351bc8f44be5",
   "metadata": {},
   "source": [
    "#### 📂 Then, we load the dataset into a DataFrame so we can explore and clean it."
   ]
  },
  {
   "cell_type": "code",
   "execution_count": 2,
   "id": "7224d4e6-e45f-4417-ad57-34211d09337e",
   "metadata": {},
   "outputs": [],
   "source": [
    "data = pd.read_csv('type2-diabetes-dataset.csv')"
   ]
  },
  {
   "cell_type": "markdown",
   "id": "fde2aab0-15a9-4c7e-97db-7af772d5e327",
   "metadata": {},
   "source": [
    "## 🔍 Display top 10 and last 10 rows of the dataset\n",
    "We display the first and last 10 rows of the dataset to ensure everything is loaded correctly and to get a quick look at the data. "
   ]
  },
  {
   "cell_type": "code",
   "execution_count": 3,
   "id": "7972f33d-ec92-4dd7-b81c-f7049f532320",
   "metadata": {},
   "outputs": [
    {
     "data": {
      "text/html": [
       "<div>\n",
       "<style scoped>\n",
       "    .dataframe tbody tr th:only-of-type {\n",
       "        vertical-align: middle;\n",
       "    }\n",
       "\n",
       "    .dataframe tbody tr th {\n",
       "        vertical-align: top;\n",
       "    }\n",
       "\n",
       "    .dataframe thead th {\n",
       "        text-align: right;\n",
       "    }\n",
       "</style>\n",
       "<table border=\"1\" class=\"dataframe\">\n",
       "  <thead>\n",
       "    <tr style=\"text-align: right;\">\n",
       "      <th></th>\n",
       "      <th>Pregnancies</th>\n",
       "      <th>Glucose</th>\n",
       "      <th>BloodPressure</th>\n",
       "      <th>SkinThickness</th>\n",
       "      <th>Insulin</th>\n",
       "      <th>BMI</th>\n",
       "      <th>DiabetesPedigreeFunction</th>\n",
       "      <th>Age</th>\n",
       "      <th>Outcome</th>\n",
       "    </tr>\n",
       "  </thead>\n",
       "  <tbody>\n",
       "    <tr>\n",
       "      <th>0</th>\n",
       "      <td>6</td>\n",
       "      <td>148</td>\n",
       "      <td>72</td>\n",
       "      <td>35</td>\n",
       "      <td>0</td>\n",
       "      <td>33.6</td>\n",
       "      <td>627.000</td>\n",
       "      <td>50</td>\n",
       "      <td>1</td>\n",
       "    </tr>\n",
       "    <tr>\n",
       "      <th>1</th>\n",
       "      <td>1</td>\n",
       "      <td>85</td>\n",
       "      <td>66</td>\n",
       "      <td>29</td>\n",
       "      <td>0</td>\n",
       "      <td>26.6</td>\n",
       "      <td>351.000</td>\n",
       "      <td>31</td>\n",
       "      <td>0</td>\n",
       "    </tr>\n",
       "    <tr>\n",
       "      <th>2</th>\n",
       "      <td>8</td>\n",
       "      <td>183</td>\n",
       "      <td>64</td>\n",
       "      <td>0</td>\n",
       "      <td>0</td>\n",
       "      <td>23.3</td>\n",
       "      <td>672.000</td>\n",
       "      <td>32</td>\n",
       "      <td>1</td>\n",
       "    </tr>\n",
       "    <tr>\n",
       "      <th>3</th>\n",
       "      <td>1</td>\n",
       "      <td>89</td>\n",
       "      <td>66</td>\n",
       "      <td>23</td>\n",
       "      <td>94</td>\n",
       "      <td>28.1</td>\n",
       "      <td>167.000</td>\n",
       "      <td>21</td>\n",
       "      <td>0</td>\n",
       "    </tr>\n",
       "    <tr>\n",
       "      <th>4</th>\n",
       "      <td>0</td>\n",
       "      <td>137</td>\n",
       "      <td>40</td>\n",
       "      <td>35</td>\n",
       "      <td>168</td>\n",
       "      <td>43.1</td>\n",
       "      <td>2.288</td>\n",
       "      <td>33</td>\n",
       "      <td>1</td>\n",
       "    </tr>\n",
       "    <tr>\n",
       "      <th>5</th>\n",
       "      <td>5</td>\n",
       "      <td>116</td>\n",
       "      <td>74</td>\n",
       "      <td>0</td>\n",
       "      <td>0</td>\n",
       "      <td>25.6</td>\n",
       "      <td>201.000</td>\n",
       "      <td>30</td>\n",
       "      <td>0</td>\n",
       "    </tr>\n",
       "    <tr>\n",
       "      <th>6</th>\n",
       "      <td>3</td>\n",
       "      <td>78</td>\n",
       "      <td>50</td>\n",
       "      <td>32</td>\n",
       "      <td>88</td>\n",
       "      <td>31.0</td>\n",
       "      <td>248.000</td>\n",
       "      <td>26</td>\n",
       "      <td>1</td>\n",
       "    </tr>\n",
       "    <tr>\n",
       "      <th>7</th>\n",
       "      <td>10</td>\n",
       "      <td>115</td>\n",
       "      <td>0</td>\n",
       "      <td>0</td>\n",
       "      <td>0</td>\n",
       "      <td>35.3</td>\n",
       "      <td>134.000</td>\n",
       "      <td>29</td>\n",
       "      <td>0</td>\n",
       "    </tr>\n",
       "    <tr>\n",
       "      <th>8</th>\n",
       "      <td>2</td>\n",
       "      <td>197</td>\n",
       "      <td>70</td>\n",
       "      <td>45</td>\n",
       "      <td>543</td>\n",
       "      <td>30.5</td>\n",
       "      <td>158.000</td>\n",
       "      <td>53</td>\n",
       "      <td>1</td>\n",
       "    </tr>\n",
       "    <tr>\n",
       "      <th>9</th>\n",
       "      <td>8</td>\n",
       "      <td>125</td>\n",
       "      <td>96</td>\n",
       "      <td>0</td>\n",
       "      <td>0</td>\n",
       "      <td>0.0</td>\n",
       "      <td>232.000</td>\n",
       "      <td>54</td>\n",
       "      <td>1</td>\n",
       "    </tr>\n",
       "  </tbody>\n",
       "</table>\n",
       "</div>"
      ],
      "text/plain": [
       "   Pregnancies  Glucose  BloodPressure  SkinThickness  Insulin   BMI  \\\n",
       "0            6      148             72             35        0  33.6   \n",
       "1            1       85             66             29        0  26.6   \n",
       "2            8      183             64              0        0  23.3   \n",
       "3            1       89             66             23       94  28.1   \n",
       "4            0      137             40             35      168  43.1   \n",
       "5            5      116             74              0        0  25.6   \n",
       "6            3       78             50             32       88  31.0   \n",
       "7           10      115              0              0        0  35.3   \n",
       "8            2      197             70             45      543  30.5   \n",
       "9            8      125             96              0        0   0.0   \n",
       "\n",
       "   DiabetesPedigreeFunction  Age  Outcome  \n",
       "0                   627.000   50        1  \n",
       "1                   351.000   31        0  \n",
       "2                   672.000   32        1  \n",
       "3                   167.000   21        0  \n",
       "4                     2.288   33        1  \n",
       "5                   201.000   30        0  \n",
       "6                   248.000   26        1  \n",
       "7                   134.000   29        0  \n",
       "8                   158.000   53        1  \n",
       "9                   232.000   54        1  "
      ]
     },
     "execution_count": 3,
     "metadata": {},
     "output_type": "execute_result"
    }
   ],
   "source": [
    "# Historically, women in Pime tribe have had higher pregnancy rates. Note that the `Pregnancies` column refers to the number of times a woman has been pregnant, which may include miscarriages or pregnancies that did not result in birth.\n",
    "data.head(10)"
   ]
  },
  {
   "cell_type": "code",
   "execution_count": 4,
   "id": "60e632b6-6ff5-4d27-8179-11215619ddf2",
   "metadata": {},
   "outputs": [
    {
     "data": {
      "text/html": [
       "<div>\n",
       "<style scoped>\n",
       "    .dataframe tbody tr th:only-of-type {\n",
       "        vertical-align: middle;\n",
       "    }\n",
       "\n",
       "    .dataframe tbody tr th {\n",
       "        vertical-align: top;\n",
       "    }\n",
       "\n",
       "    .dataframe thead th {\n",
       "        text-align: right;\n",
       "    }\n",
       "</style>\n",
       "<table border=\"1\" class=\"dataframe\">\n",
       "  <thead>\n",
       "    <tr style=\"text-align: right;\">\n",
       "      <th></th>\n",
       "      <th>Pregnancies</th>\n",
       "      <th>Glucose</th>\n",
       "      <th>BloodPressure</th>\n",
       "      <th>SkinThickness</th>\n",
       "      <th>Insulin</th>\n",
       "      <th>BMI</th>\n",
       "      <th>DiabetesPedigreeFunction</th>\n",
       "      <th>Age</th>\n",
       "      <th>Outcome</th>\n",
       "    </tr>\n",
       "  </thead>\n",
       "  <tbody>\n",
       "    <tr>\n",
       "      <th>758</th>\n",
       "      <td>1</td>\n",
       "      <td>106</td>\n",
       "      <td>76</td>\n",
       "      <td>0</td>\n",
       "      <td>0</td>\n",
       "      <td>37.5</td>\n",
       "      <td>197.00</td>\n",
       "      <td>26</td>\n",
       "      <td>0</td>\n",
       "    </tr>\n",
       "    <tr>\n",
       "      <th>759</th>\n",
       "      <td>6</td>\n",
       "      <td>190</td>\n",
       "      <td>92</td>\n",
       "      <td>0</td>\n",
       "      <td>0</td>\n",
       "      <td>35.5</td>\n",
       "      <td>278.00</td>\n",
       "      <td>66</td>\n",
       "      <td>1</td>\n",
       "    </tr>\n",
       "    <tr>\n",
       "      <th>760</th>\n",
       "      <td>2</td>\n",
       "      <td>88</td>\n",
       "      <td>58</td>\n",
       "      <td>26</td>\n",
       "      <td>16</td>\n",
       "      <td>28.4</td>\n",
       "      <td>766.00</td>\n",
       "      <td>22</td>\n",
       "      <td>0</td>\n",
       "    </tr>\n",
       "    <tr>\n",
       "      <th>761</th>\n",
       "      <td>9</td>\n",
       "      <td>170</td>\n",
       "      <td>74</td>\n",
       "      <td>31</td>\n",
       "      <td>0</td>\n",
       "      <td>44.0</td>\n",
       "      <td>403.00</td>\n",
       "      <td>43</td>\n",
       "      <td>1</td>\n",
       "    </tr>\n",
       "    <tr>\n",
       "      <th>762</th>\n",
       "      <td>9</td>\n",
       "      <td>89</td>\n",
       "      <td>62</td>\n",
       "      <td>0</td>\n",
       "      <td>0</td>\n",
       "      <td>22.5</td>\n",
       "      <td>142.00</td>\n",
       "      <td>33</td>\n",
       "      <td>0</td>\n",
       "    </tr>\n",
       "    <tr>\n",
       "      <th>763</th>\n",
       "      <td>10</td>\n",
       "      <td>101</td>\n",
       "      <td>76</td>\n",
       "      <td>48</td>\n",
       "      <td>180</td>\n",
       "      <td>32.9</td>\n",
       "      <td>171.00</td>\n",
       "      <td>63</td>\n",
       "      <td>0</td>\n",
       "    </tr>\n",
       "    <tr>\n",
       "      <th>764</th>\n",
       "      <td>2</td>\n",
       "      <td>122</td>\n",
       "      <td>70</td>\n",
       "      <td>27</td>\n",
       "      <td>0</td>\n",
       "      <td>36.8</td>\n",
       "      <td>0.34</td>\n",
       "      <td>27</td>\n",
       "      <td>0</td>\n",
       "    </tr>\n",
       "    <tr>\n",
       "      <th>765</th>\n",
       "      <td>5</td>\n",
       "      <td>121</td>\n",
       "      <td>72</td>\n",
       "      <td>23</td>\n",
       "      <td>112</td>\n",
       "      <td>26.2</td>\n",
       "      <td>245.00</td>\n",
       "      <td>30</td>\n",
       "      <td>0</td>\n",
       "    </tr>\n",
       "    <tr>\n",
       "      <th>766</th>\n",
       "      <td>1</td>\n",
       "      <td>126</td>\n",
       "      <td>60</td>\n",
       "      <td>0</td>\n",
       "      <td>0</td>\n",
       "      <td>30.1</td>\n",
       "      <td>349.00</td>\n",
       "      <td>47</td>\n",
       "      <td>1</td>\n",
       "    </tr>\n",
       "    <tr>\n",
       "      <th>767</th>\n",
       "      <td>1</td>\n",
       "      <td>93</td>\n",
       "      <td>70</td>\n",
       "      <td>31</td>\n",
       "      <td>0</td>\n",
       "      <td>30.4</td>\n",
       "      <td>315.00</td>\n",
       "      <td>23</td>\n",
       "      <td>0</td>\n",
       "    </tr>\n",
       "  </tbody>\n",
       "</table>\n",
       "</div>"
      ],
      "text/plain": [
       "     Pregnancies  Glucose  BloodPressure  SkinThickness  Insulin   BMI  \\\n",
       "758            1      106             76              0        0  37.5   \n",
       "759            6      190             92              0        0  35.5   \n",
       "760            2       88             58             26       16  28.4   \n",
       "761            9      170             74             31        0  44.0   \n",
       "762            9       89             62              0        0  22.5   \n",
       "763           10      101             76             48      180  32.9   \n",
       "764            2      122             70             27        0  36.8   \n",
       "765            5      121             72             23      112  26.2   \n",
       "766            1      126             60              0        0  30.1   \n",
       "767            1       93             70             31        0  30.4   \n",
       "\n",
       "     DiabetesPedigreeFunction  Age  Outcome  \n",
       "758                    197.00   26        0  \n",
       "759                    278.00   66        1  \n",
       "760                    766.00   22        0  \n",
       "761                    403.00   43        1  \n",
       "762                    142.00   33        0  \n",
       "763                    171.00   63        0  \n",
       "764                      0.34   27        0  \n",
       "765                    245.00   30        0  \n",
       "766                    349.00   47        1  \n",
       "767                    315.00   23        0  "
      ]
     },
     "execution_count": 4,
     "metadata": {},
     "output_type": "execute_result"
    }
   ],
   "source": [
    "data.tail(10)"
   ]
  },
  {
   "cell_type": "markdown",
   "id": "59fb2a2b-247c-469c-90ab-bc5d2811429c",
   "metadata": {},
   "source": [
    "## 📂 Information about the dataset\n",
    "We want to get information about our dataset, like total number of rows, total number of columns, datatypes of each column and memory requirement. "
   ]
  },
  {
   "cell_type": "code",
   "execution_count": 5,
   "id": "d596569c-657f-43e5-a406-704e9b11b86a",
   "metadata": {},
   "outputs": [
    {
     "name": "stdout",
     "output_type": "stream",
     "text": [
      "<class 'pandas.core.frame.DataFrame'>\n",
      "RangeIndex: 768 entries, 0 to 767\n",
      "Data columns (total 9 columns):\n",
      " #   Column                    Non-Null Count  Dtype  \n",
      "---  ------                    --------------  -----  \n",
      " 0   Pregnancies               768 non-null    int64  \n",
      " 1   Glucose                   768 non-null    int64  \n",
      " 2   BloodPressure             768 non-null    int64  \n",
      " 3   SkinThickness             768 non-null    int64  \n",
      " 4   Insulin                   768 non-null    int64  \n",
      " 5   BMI                       768 non-null    float64\n",
      " 6   DiabetesPedigreeFunction  768 non-null    float64\n",
      " 7   Age                       768 non-null    int64  \n",
      " 8   Outcome                   768 non-null    int64  \n",
      "dtypes: float64(2), int64(7)\n",
      "memory usage: 54.1 KB\n"
     ]
    }
   ],
   "source": [
    "data.info() # Displays data types and non-null counts"
   ]
  },
  {
   "cell_type": "markdown",
   "id": "dafd715a-a1af-45e3-9c06-5ef2814a72e0",
   "metadata": {},
   "source": [
    "Now, we display summary statistics for each feature to analyze their distribution, central tendency, and dispersion. This step provides essential insights for potential data preprocessing and feature engineering. \n",
    "\n",
    "For this, we will use describe method of pandas dataframe. "
   ]
  },
  {
   "cell_type": "code",
   "execution_count": 6,
   "id": "f0b5c5bd-7144-4842-91ca-e179de66e366",
   "metadata": {},
   "outputs": [
    {
     "data": {
      "text/html": [
       "<div>\n",
       "<style scoped>\n",
       "    .dataframe tbody tr th:only-of-type {\n",
       "        vertical-align: middle;\n",
       "    }\n",
       "\n",
       "    .dataframe tbody tr th {\n",
       "        vertical-align: top;\n",
       "    }\n",
       "\n",
       "    .dataframe thead th {\n",
       "        text-align: right;\n",
       "    }\n",
       "</style>\n",
       "<table border=\"1\" class=\"dataframe\">\n",
       "  <thead>\n",
       "    <tr style=\"text-align: right;\">\n",
       "      <th></th>\n",
       "      <th>Pregnancies</th>\n",
       "      <th>Glucose</th>\n",
       "      <th>BloodPressure</th>\n",
       "      <th>SkinThickness</th>\n",
       "      <th>Insulin</th>\n",
       "      <th>BMI</th>\n",
       "      <th>DiabetesPedigreeFunction</th>\n",
       "      <th>Age</th>\n",
       "      <th>Outcome</th>\n",
       "    </tr>\n",
       "  </thead>\n",
       "  <tbody>\n",
       "    <tr>\n",
       "      <th>count</th>\n",
       "      <td>768.000000</td>\n",
       "      <td>768.000000</td>\n",
       "      <td>768.000000</td>\n",
       "      <td>768.000000</td>\n",
       "      <td>768.000000</td>\n",
       "      <td>768.000000</td>\n",
       "      <td>768.000000</td>\n",
       "      <td>768.000000</td>\n",
       "      <td>768.000000</td>\n",
       "    </tr>\n",
       "    <tr>\n",
       "      <th>mean</th>\n",
       "      <td>3.845052</td>\n",
       "      <td>120.894531</td>\n",
       "      <td>69.105469</td>\n",
       "      <td>20.536458</td>\n",
       "      <td>79.799479</td>\n",
       "      <td>31.992578</td>\n",
       "      <td>347.079349</td>\n",
       "      <td>33.240885</td>\n",
       "      <td>0.348958</td>\n",
       "    </tr>\n",
       "    <tr>\n",
       "      <th>std</th>\n",
       "      <td>3.369578</td>\n",
       "      <td>31.972618</td>\n",
       "      <td>19.355807</td>\n",
       "      <td>15.952218</td>\n",
       "      <td>115.244002</td>\n",
       "      <td>7.884160</td>\n",
       "      <td>254.431659</td>\n",
       "      <td>11.760232</td>\n",
       "      <td>0.476951</td>\n",
       "    </tr>\n",
       "    <tr>\n",
       "      <th>min</th>\n",
       "      <td>0.000000</td>\n",
       "      <td>0.000000</td>\n",
       "      <td>0.000000</td>\n",
       "      <td>0.000000</td>\n",
       "      <td>0.000000</td>\n",
       "      <td>0.000000</td>\n",
       "      <td>0.100000</td>\n",
       "      <td>21.000000</td>\n",
       "      <td>0.000000</td>\n",
       "    </tr>\n",
       "    <tr>\n",
       "      <th>25%</th>\n",
       "      <td>1.000000</td>\n",
       "      <td>99.000000</td>\n",
       "      <td>62.000000</td>\n",
       "      <td>0.000000</td>\n",
       "      <td>0.000000</td>\n",
       "      <td>27.300000</td>\n",
       "      <td>165.000000</td>\n",
       "      <td>24.000000</td>\n",
       "      <td>0.000000</td>\n",
       "    </tr>\n",
       "    <tr>\n",
       "      <th>50%</th>\n",
       "      <td>3.000000</td>\n",
       "      <td>117.000000</td>\n",
       "      <td>72.000000</td>\n",
       "      <td>23.000000</td>\n",
       "      <td>30.500000</td>\n",
       "      <td>32.000000</td>\n",
       "      <td>295.500000</td>\n",
       "      <td>29.000000</td>\n",
       "      <td>0.000000</td>\n",
       "    </tr>\n",
       "    <tr>\n",
       "      <th>75%</th>\n",
       "      <td>6.000000</td>\n",
       "      <td>140.250000</td>\n",
       "      <td>80.000000</td>\n",
       "      <td>32.000000</td>\n",
       "      <td>127.250000</td>\n",
       "      <td>36.600000</td>\n",
       "      <td>527.250000</td>\n",
       "      <td>41.000000</td>\n",
       "      <td>1.000000</td>\n",
       "    </tr>\n",
       "    <tr>\n",
       "      <th>max</th>\n",
       "      <td>17.000000</td>\n",
       "      <td>199.000000</td>\n",
       "      <td>122.000000</td>\n",
       "      <td>99.000000</td>\n",
       "      <td>846.000000</td>\n",
       "      <td>67.100000</td>\n",
       "      <td>997.000000</td>\n",
       "      <td>81.000000</td>\n",
       "      <td>1.000000</td>\n",
       "    </tr>\n",
       "  </tbody>\n",
       "</table>\n",
       "</div>"
      ],
      "text/plain": [
       "       Pregnancies     Glucose  BloodPressure  SkinThickness     Insulin  \\\n",
       "count   768.000000  768.000000     768.000000     768.000000  768.000000   \n",
       "mean      3.845052  120.894531      69.105469      20.536458   79.799479   \n",
       "std       3.369578   31.972618      19.355807      15.952218  115.244002   \n",
       "min       0.000000    0.000000       0.000000       0.000000    0.000000   \n",
       "25%       1.000000   99.000000      62.000000       0.000000    0.000000   \n",
       "50%       3.000000  117.000000      72.000000      23.000000   30.500000   \n",
       "75%       6.000000  140.250000      80.000000      32.000000  127.250000   \n",
       "max      17.000000  199.000000     122.000000      99.000000  846.000000   \n",
       "\n",
       "              BMI  DiabetesPedigreeFunction         Age     Outcome  \n",
       "count  768.000000                768.000000  768.000000  768.000000  \n",
       "mean    31.992578                347.079349   33.240885    0.348958  \n",
       "std      7.884160                254.431659   11.760232    0.476951  \n",
       "min      0.000000                  0.100000   21.000000    0.000000  \n",
       "25%     27.300000                165.000000   24.000000    0.000000  \n",
       "50%     32.000000                295.500000   29.000000    0.000000  \n",
       "75%     36.600000                527.250000   41.000000    1.000000  \n",
       "max     67.100000                997.000000   81.000000    1.000000  "
      ]
     },
     "execution_count": 6,
     "metadata": {},
     "output_type": "execute_result"
    }
   ],
   "source": [
    "data.describe()\n",
    "# Example: For the \"BloodPressure\" column, 25% values are below 62 and 50% values are below 72. "
   ]
  },
  {
   "cell_type": "markdown",
   "id": "feedf68b-c7b5-4351-a76b-4d53264a2898",
   "metadata": {},
   "source": [
    "### 🔥 Correlation Heatmap\n",
    "\n",
    "This heatmap provides a visual representation of how each feature in the dataset is correlated with the others, especially the `Outcome` (i.e., whether or not someone has diabetes).\n",
    "\n",
    "- Each square represents the correlation between two variables.\n",
    "- Values range from **-1 to 1**:\n",
    "  - **1** means a strong positive correlation (as one increases, so does the other)\n",
    "  - **-1** means a strong negative correlation (as one increases, the other decreases)\n",
    "  - **0** means no correlation\n",
    "\n",
    "The color gradient (`coolwarm`) makes it easy to spot strong relationships:  \n",
    "🎨 **Dark red = strong positive correlation**  \n",
    "🎨 **Dark blue = strong negative correlation**\n",
    "\n",
    "For example, we can clearly see that **Glucose** has a strong positive correlation with `Outcome`, meaning that higher glucose levels are often associated with a diabetes diagnosis.\n",
    "\n",
    "💡 **Why it matters:**  \n",
    "This helps us understand which features might be more predictive and worth focusing on in our model."
   ]
  },
  {
   "cell_type": "code",
   "execution_count": 7,
   "id": "4d1ab61f-28e7-47d4-a4bf-619eebe3e20b",
   "metadata": {},
   "outputs": [
    {
     "data": {
      "image/png": "[encoded data removed]",
      "text/plain": [
       "<Figure size 1000x800 with 2 Axes>"
      ]
     },
     "metadata": {},
     "output_type": "display_data"
    }
   ],
   "source": [
    "plt.figure(figsize=(10, 8))  # Set the size of the heatmap\n",
    "sns.heatmap(data.corr(),     # Calculate correlations between all numeric columns in the dataset\n",
    "            annot=True,      # Show the correlation values on the heatmap\n",
    "            cmap='coolwarm', # Use a color map that ranges from cool (blue) to warm (red)\n",
    "            fmt='.2f')       # Format the numbers to 2 decimal places\n",
    "\n",
    "plt.title('Correlation Heatmap')  # Add a title for clarity\n",
    "plt.show()  # Display the heatmap"
   ]
  },
  {
   "cell_type": "markdown",
   "id": "7d1b63a0-0fd8-49d5-a464-0cfd7c83e863",
   "metadata": {},
   "source": [
    "#### 🔍 What do we notice?\n",
    "\n",
    "- **Glucose** has the **strongest link with diabetes** (`0.47`). So, higher glucose levels are often found in people with diabetes.\n",
    "- **BMI** (`0.29`) and **Age** (`0.24`) also show some connection with the diabetes outcome.\n",
    "- Features like **Blood Pressure** or **Skin Thickness** don’t seem strongly related to diabetes.\n",
    "- **Pregnancies** and **Age** are also quite related – older people tend to have had more pregnancies.\n",
    "- The diagonal values of `1.00` represent a perfect correlation of a variable with itself (e.g. `Pregnancies` with `Pregnancies`). This is normal and does not provide insight for prediction."
   ]
  },
  {
   "cell_type": "markdown",
   "id": "244e01dc-47b8-40af-b436-251113f65e51",
   "metadata": {},
   "source": [
    "### 📊 Glucose Levels by Outcome – Boxplot\n",
    "\n",
    "As we can see, people with diabetes tend to have **higher glucose levels**, and the distribution is clearly shifted compared to those without diabetes.\n",
    "\n",
    "This boxplot compares glucose levels between two groups:\n",
    "- Individuals **without diabetes** (`Outcome = 0`)\n",
    "- Individuals **with diabetes** (`Outcome = 1`)\n",
    "\n",
    "\n",
    "💡 **Why it matters:**  \n",
    "This tells us that glucose is likely an important feature for predicting diabetes, which can be very useful when training our machine learning model."
   ]
  },
  {
   "cell_type": "code",
   "execution_count": 8,
   "id": "4c9df071-099e-499a-a221-d111923367dc",
   "metadata": {},
   "outputs": [
    {
     "data": {
      "image/png": "[encoded data removed]",
      "text/plain": [
       "<Figure size 600x400 with 1 Axes>"
      ]
     },
     "metadata": {},
     "output_type": "display_data"
    }
   ],
   "source": [
    "# Creating a boxplot to compare glucose levels between individuals with and without diabetes\n",
    "# This helps us visually understand if glucose is an important factor for predicting diabetes\n",
    "plt.figure(figsize=(6, 4))  # Set the figure size for better readability\n",
    "sns.boxplot(x='Outcome',    # The outcome variable (0 = no diabetes, 1 = diabetes) on the x-axis\n",
    "            y='Glucose',    # The glucose values we want to compare across outcomes\n",
    "            data=data)      # The dataset we're using\n",
    "\n",
    "# Add titles and labels to make the plot more understandable\n",
    "plt.title('Glucose Levels by Outcome')      \n",
    "plt.xlabel('Diabetes (0 = No, 1 = Yes)')   \n",
    "plt.ylabel('Glucose')                       \n",
    "plt.show()"
   ]
  },
  {
   "cell_type": "markdown",
   "id": "c8f9fd35-4510-43c9-bd3a-99bfd1f19e3a",
   "metadata": {},
   "source": [
    "#### 🔍 What do we notice?\n",
    "\n",
    "- Median glucose: **~130 mg/dL** for diabetics vs **~105 mg/dL** for non-diabetics.\n",
    "- IQR (Interquartile Range – range of the middle 50% of values) for diabetics: **~115–165 mg/dL** and **~95–125 mg/dL** for non-diabetics.\n",
    "- **One low outlier** (~0 mg/dL) appears in the diabetic group.\n",
    "- **Several outliers** in the non-diabetic group, mostly **above 175 mg/dL** and some very low.\n",
    "- Overall, diabetics tend to have **higher and more consistent** glucose levels."
   ]
  },
  {
   "cell_type": "markdown",
   "id": "6eec301d-97ca-4cdd-b20e-cf898e6f0d37",
   "metadata": {},
   "source": [
    "## 🧹 Data cleaning - check for missing values \n",
    "\n",
    "It's important to detect missing values in the dataset to ensure no data is lost or misrepresented during model training.\n",
    "\n",
    "From the results, we can observe that the dataset does not contain any null values."
   ]
  },
  {
   "cell_type": "code",
   "execution_count": 9,
   "id": "855cb070-f9f7-4c9b-a980-1d50b7c16d82",
   "metadata": {},
   "outputs": [
    {
     "data": {
      "text/html": [
       "<div>\n",
       "<style scoped>\n",
       "    .dataframe tbody tr th:only-of-type {\n",
       "        vertical-align: middle;\n",
       "    }\n",
       "\n",
       "    .dataframe tbody tr th {\n",
       "        vertical-align: top;\n",
       "    }\n",
       "\n",
       "    .dataframe thead th {\n",
       "        text-align: right;\n",
       "    }\n",
       "</style>\n",
       "<table border=\"1\" class=\"dataframe\">\n",
       "  <thead>\n",
       "    <tr style=\"text-align: right;\">\n",
       "      <th></th>\n",
       "      <th>Pregnancies</th>\n",
       "      <th>Glucose</th>\n",
       "      <th>BloodPressure</th>\n",
       "      <th>SkinThickness</th>\n",
       "      <th>Insulin</th>\n",
       "      <th>BMI</th>\n",
       "      <th>DiabetesPedigreeFunction</th>\n",
       "      <th>Age</th>\n",
       "      <th>Outcome</th>\n",
       "    </tr>\n",
       "  </thead>\n",
       "  <tbody>\n",
       "    <tr>\n",
       "      <th>0</th>\n",
       "      <td>False</td>\n",
       "      <td>False</td>\n",
       "      <td>False</td>\n",
       "      <td>False</td>\n",
       "      <td>False</td>\n",
       "      <td>False</td>\n",
       "      <td>False</td>\n",
       "      <td>False</td>\n",
       "      <td>False</td>\n",
       "    </tr>\n",
       "    <tr>\n",
       "      <th>1</th>\n",
       "      <td>False</td>\n",
       "      <td>False</td>\n",
       "      <td>False</td>\n",
       "      <td>False</td>\n",
       "      <td>False</td>\n",
       "      <td>False</td>\n",
       "      <td>False</td>\n",
       "      <td>False</td>\n",
       "      <td>False</td>\n",
       "    </tr>\n",
       "    <tr>\n",
       "      <th>2</th>\n",
       "      <td>False</td>\n",
       "      <td>False</td>\n",
       "      <td>False</td>\n",
       "      <td>False</td>\n",
       "      <td>False</td>\n",
       "      <td>False</td>\n",
       "      <td>False</td>\n",
       "      <td>False</td>\n",
       "      <td>False</td>\n",
       "    </tr>\n",
       "    <tr>\n",
       "      <th>3</th>\n",
       "      <td>False</td>\n",
       "      <td>False</td>\n",
       "      <td>False</td>\n",
       "      <td>False</td>\n",
       "      <td>False</td>\n",
       "      <td>False</td>\n",
       "      <td>False</td>\n",
       "      <td>False</td>\n",
       "      <td>False</td>\n",
       "    </tr>\n",
       "    <tr>\n",
       "      <th>4</th>\n",
       "      <td>False</td>\n",
       "      <td>False</td>\n",
       "      <td>False</td>\n",
       "      <td>False</td>\n",
       "      <td>False</td>\n",
       "      <td>False</td>\n",
       "      <td>False</td>\n",
       "      <td>False</td>\n",
       "      <td>False</td>\n",
       "    </tr>\n",
       "    <tr>\n",
       "      <th>...</th>\n",
       "      <td>...</td>\n",
       "      <td>...</td>\n",
       "      <td>...</td>\n",
       "      <td>...</td>\n",
       "      <td>...</td>\n",
       "      <td>...</td>\n",
       "      <td>...</td>\n",
       "      <td>...</td>\n",
       "      <td>...</td>\n",
       "    </tr>\n",
       "    <tr>\n",
       "      <th>763</th>\n",
       "      <td>False</td>\n",
       "      <td>False</td>\n",
       "      <td>False</td>\n",
       "      <td>False</td>\n",
       "      <td>False</td>\n",
       "      <td>False</td>\n",
       "      <td>False</td>\n",
       "      <td>False</td>\n",
       "      <td>False</td>\n",
       "    </tr>\n",
       "    <tr>\n",
       "      <th>764</th>\n",
       "      <td>False</td>\n",
       "      <td>False</td>\n",
       "      <td>False</td>\n",
       "      <td>False</td>\n",
       "      <td>False</td>\n",
       "      <td>False</td>\n",
       "      <td>False</td>\n",
       "      <td>False</td>\n",
       "      <td>False</td>\n",
       "    </tr>\n",
       "    <tr>\n",
       "      <th>765</th>\n",
       "      <td>False</td>\n",
       "      <td>False</td>\n",
       "      <td>False</td>\n",
       "      <td>False</td>\n",
       "      <td>False</td>\n",
       "      <td>False</td>\n",
       "      <td>False</td>\n",
       "      <td>False</td>\n",
       "      <td>False</td>\n",
       "    </tr>\n",
       "    <tr>\n",
       "      <th>766</th>\n",
       "      <td>False</td>\n",
       "      <td>False</td>\n",
       "      <td>False</td>\n",
       "      <td>False</td>\n",
       "      <td>False</td>\n",
       "      <td>False</td>\n",
       "      <td>False</td>\n",
       "      <td>False</td>\n",
       "      <td>False</td>\n",
       "    </tr>\n",
       "    <tr>\n",
       "      <th>767</th>\n",
       "      <td>False</td>\n",
       "      <td>False</td>\n",
       "      <td>False</td>\n",
       "      <td>False</td>\n",
       "      <td>False</td>\n",
       "      <td>False</td>\n",
       "      <td>False</td>\n",
       "      <td>False</td>\n",
       "      <td>False</td>\n",
       "    </tr>\n",
       "  </tbody>\n",
       "</table>\n",
       "<p>768 rows × 9 columns</p>\n",
       "</div>"
      ],
      "text/plain": [
       "     Pregnancies  Glucose  BloodPressure  SkinThickness  Insulin    BMI  \\\n",
       "0          False    False          False          False    False  False   \n",
       "1          False    False          False          False    False  False   \n",
       "2          False    False          False          False    False  False   \n",
       "3          False    False          False          False    False  False   \n",
       "4          False    False          False          False    False  False   \n",
       "..           ...      ...            ...            ...      ...    ...   \n",
       "763        False    False          False          False    False  False   \n",
       "764        False    False          False          False    False  False   \n",
       "765        False    False          False          False    False  False   \n",
       "766        False    False          False          False    False  False   \n",
       "767        False    False          False          False    False  False   \n",
       "\n",
       "     DiabetesPedigreeFunction    Age  Outcome  \n",
       "0                       False  False    False  \n",
       "1                       False  False    False  \n",
       "2                       False  False    False  \n",
       "3                       False  False    False  \n",
       "4                       False  False    False  \n",
       "..                        ...    ...      ...  \n",
       "763                     False  False    False  \n",
       "764                     False  False    False  \n",
       "765                     False  False    False  \n",
       "766                     False  False    False  \n",
       "767                     False  False    False  \n",
       "\n",
       "[768 rows x 9 columns]"
      ]
     },
     "execution_count": 9,
     "metadata": {},
     "output_type": "execute_result"
    }
   ],
   "source": [
    "data.isnull() # Return a DataFrame indicating missing values (True for NaNs, False otherwise)"
   ]
  },
  {
   "cell_type": "code",
   "execution_count": 10,
   "id": "c5a75f88-5c6b-4490-8b68-05be91bb3f3b",
   "metadata": {},
   "outputs": [
    {
     "data": {
      "text/plain": [
       "Pregnancies                 0\n",
       "Glucose                     0\n",
       "BloodPressure               0\n",
       "SkinThickness               0\n",
       "Insulin                     0\n",
       "BMI                         0\n",
       "DiabetesPedigreeFunction    0\n",
       "Age                         0\n",
       "Outcome                     0\n",
       "dtype: int64"
      ]
     },
     "execution_count": 10,
     "metadata": {},
     "output_type": "execute_result"
    }
   ],
   "source": [
    "data.isnull().sum() # We confirm that there are no missing values"
   ]
  },
  {
   "cell_type": "markdown",
   "id": "f563d3cc-1dd3-4f16-924d-157f44d65f94",
   "metadata": {},
   "source": [
    "Even though there are no missing values in our dataset, some features such as **Glucose**, **BloodPressure**, **SkinThickness**, **Insulin** and **BMI** contain zero values (these columns had 0 as their minimum value). In a real-world medical context, a value of zero for these features is not realistic and likely indicates missing or unrecorded data.\n",
    "\n",
    "To handle this correctly, we will begin by replacing all zero values in the specified columns with NaN (Not a Number). This will enable us to treat these values as missing data, which we will then replace with the **mean** of the respective columns."
   ]
  },
  {
   "cell_type": "code",
   "execution_count": 11,
   "id": "7dc479c8-0a3c-4d31-973a-74bd33a735d1",
   "metadata": {},
   "outputs": [],
   "source": [
    "# Create a full, independent copy of the dataset with deep=True, meaning changes to the copy won't affect the original data\n",
    "data_copy = data.copy(deep=True)"
   ]
  },
  {
   "cell_type": "code",
   "execution_count": 12,
   "id": "9ab66c5e-8e40-46b6-989f-eefb765e1a33",
   "metadata": {},
   "outputs": [
    {
     "data": {
      "text/plain": [
       "Index(['Pregnancies', 'Glucose', 'BloodPressure', 'SkinThickness', 'Insulin',\n",
       "       'BMI', 'DiabetesPedigreeFunction', 'Age', 'Outcome'],\n",
       "      dtype='object')"
      ]
     },
     "execution_count": 12,
     "metadata": {},
     "output_type": "execute_result"
    }
   ],
   "source": [
    "# Display the column names of the original (first) dataset\n",
    "data.columns"
   ]
  },
  {
   "cell_type": "code",
   "execution_count": 13,
   "id": "2f6e9320-f06c-46a3-9251-71409bb06935",
   "metadata": {},
   "outputs": [
    {
     "data": {
      "text/html": [
       "<div>\n",
       "<style scoped>\n",
       "    .dataframe tbody tr th:only-of-type {\n",
       "        vertical-align: middle;\n",
       "    }\n",
       "\n",
       "    .dataframe tbody tr th {\n",
       "        vertical-align: top;\n",
       "    }\n",
       "\n",
       "    .dataframe thead th {\n",
       "        text-align: right;\n",
       "    }\n",
       "</style>\n",
       "<table border=\"1\" class=\"dataframe\">\n",
       "  <thead>\n",
       "    <tr style=\"text-align: right;\">\n",
       "      <th></th>\n",
       "      <th>Glucose</th>\n",
       "      <th>BloodPressure</th>\n",
       "      <th>SkinThickness</th>\n",
       "      <th>Insulin</th>\n",
       "      <th>BMI</th>\n",
       "    </tr>\n",
       "  </thead>\n",
       "  <tbody>\n",
       "    <tr>\n",
       "      <th>0</th>\n",
       "      <td>148</td>\n",
       "      <td>72</td>\n",
       "      <td>35</td>\n",
       "      <td>0</td>\n",
       "      <td>33.6</td>\n",
       "    </tr>\n",
       "    <tr>\n",
       "      <th>1</th>\n",
       "      <td>85</td>\n",
       "      <td>66</td>\n",
       "      <td>29</td>\n",
       "      <td>0</td>\n",
       "      <td>26.6</td>\n",
       "    </tr>\n",
       "    <tr>\n",
       "      <th>2</th>\n",
       "      <td>183</td>\n",
       "      <td>64</td>\n",
       "      <td>0</td>\n",
       "      <td>0</td>\n",
       "      <td>23.3</td>\n",
       "    </tr>\n",
       "    <tr>\n",
       "      <th>3</th>\n",
       "      <td>89</td>\n",
       "      <td>66</td>\n",
       "      <td>23</td>\n",
       "      <td>94</td>\n",
       "      <td>28.1</td>\n",
       "    </tr>\n",
       "    <tr>\n",
       "      <th>4</th>\n",
       "      <td>137</td>\n",
       "      <td>40</td>\n",
       "      <td>35</td>\n",
       "      <td>168</td>\n",
       "      <td>43.1</td>\n",
       "    </tr>\n",
       "    <tr>\n",
       "      <th>...</th>\n",
       "      <td>...</td>\n",
       "      <td>...</td>\n",
       "      <td>...</td>\n",
       "      <td>...</td>\n",
       "      <td>...</td>\n",
       "    </tr>\n",
       "    <tr>\n",
       "      <th>763</th>\n",
       "      <td>101</td>\n",
       "      <td>76</td>\n",
       "      <td>48</td>\n",
       "      <td>180</td>\n",
       "      <td>32.9</td>\n",
       "    </tr>\n",
       "    <tr>\n",
       "      <th>764</th>\n",
       "      <td>122</td>\n",
       "      <td>70</td>\n",
       "      <td>27</td>\n",
       "      <td>0</td>\n",
       "      <td>36.8</td>\n",
       "    </tr>\n",
       "    <tr>\n",
       "      <th>765</th>\n",
       "      <td>121</td>\n",
       "      <td>72</td>\n",
       "      <td>23</td>\n",
       "      <td>112</td>\n",
       "      <td>26.2</td>\n",
       "    </tr>\n",
       "    <tr>\n",
       "      <th>766</th>\n",
       "      <td>126</td>\n",
       "      <td>60</td>\n",
       "      <td>0</td>\n",
       "      <td>0</td>\n",
       "      <td>30.1</td>\n",
       "    </tr>\n",
       "    <tr>\n",
       "      <th>767</th>\n",
       "      <td>93</td>\n",
       "      <td>70</td>\n",
       "      <td>31</td>\n",
       "      <td>0</td>\n",
       "      <td>30.4</td>\n",
       "    </tr>\n",
       "  </tbody>\n",
       "</table>\n",
       "<p>768 rows × 5 columns</p>\n",
       "</div>"
      ],
      "text/plain": [
       "     Glucose  BloodPressure  SkinThickness  Insulin   BMI\n",
       "0        148             72             35        0  33.6\n",
       "1         85             66             29        0  26.6\n",
       "2        183             64              0        0  23.3\n",
       "3         89             66             23       94  28.1\n",
       "4        137             40             35      168  43.1\n",
       "..       ...            ...            ...      ...   ...\n",
       "763      101             76             48      180  32.9\n",
       "764      122             70             27        0  36.8\n",
       "765      121             72             23      112  26.2\n",
       "766      126             60              0        0  30.1\n",
       "767       93             70             31        0  30.4\n",
       "\n",
       "[768 rows x 5 columns]"
      ]
     },
     "execution_count": 13,
     "metadata": {},
     "output_type": "execute_result"
    }
   ],
   "source": [
    "# Columns with 0 as min in data.describe(), likely indicating missing values\n",
    "# The Pregnancies column is not included in this because it is possible for a woman to have 0 pregnancies, and this is a valid result in the medical field\n",
    "data_copy[['Glucose', 'BloodPressure', 'SkinThickness', 'Insulin', 'BMI']]"
   ]
  },
  {
   "cell_type": "code",
   "execution_count": 14,
   "id": "33e0876e-74b9-410d-8f41-f01a2bf37605",
   "metadata": {},
   "outputs": [],
   "source": [
    "# Replace zero values with NaN in specific columns where zero is not a valid measurement\n",
    "data_copy[['Glucose', 'BloodPressure', 'SkinThickness', 'Insulin',\n",
    "       'BMI']] = data_copy[['Glucose', 'BloodPressure', 'SkinThickness', 'Insulin',\n",
    "       'BMI']].replace(0,np.nan)"
   ]
  },
  {
   "cell_type": "code",
   "execution_count": 15,
   "id": "e5c4a72d-4c1e-4c6d-9279-94c5e1435904",
   "metadata": {},
   "outputs": [
    {
     "data": {
      "text/html": [
       "<div>\n",
       "<style scoped>\n",
       "    .dataframe tbody tr th:only-of-type {\n",
       "        vertical-align: middle;\n",
       "    }\n",
       "\n",
       "    .dataframe tbody tr th {\n",
       "        vertical-align: top;\n",
       "    }\n",
       "\n",
       "    .dataframe thead th {\n",
       "        text-align: right;\n",
       "    }\n",
       "</style>\n",
       "<table border=\"1\" class=\"dataframe\">\n",
       "  <thead>\n",
       "    <tr style=\"text-align: right;\">\n",
       "      <th></th>\n",
       "      <th>Pregnancies</th>\n",
       "      <th>Glucose</th>\n",
       "      <th>BloodPressure</th>\n",
       "      <th>SkinThickness</th>\n",
       "      <th>Insulin</th>\n",
       "      <th>BMI</th>\n",
       "      <th>DiabetesPedigreeFunction</th>\n",
       "      <th>Age</th>\n",
       "      <th>Outcome</th>\n",
       "    </tr>\n",
       "  </thead>\n",
       "  <tbody>\n",
       "    <tr>\n",
       "      <th>count</th>\n",
       "      <td>768.000000</td>\n",
       "      <td>763.000000</td>\n",
       "      <td>733.000000</td>\n",
       "      <td>541.000000</td>\n",
       "      <td>394.000000</td>\n",
       "      <td>757.000000</td>\n",
       "      <td>768.000000</td>\n",
       "      <td>768.000000</td>\n",
       "      <td>768.000000</td>\n",
       "    </tr>\n",
       "    <tr>\n",
       "      <th>mean</th>\n",
       "      <td>3.845052</td>\n",
       "      <td>121.686763</td>\n",
       "      <td>72.405184</td>\n",
       "      <td>29.153420</td>\n",
       "      <td>155.548223</td>\n",
       "      <td>32.457464</td>\n",
       "      <td>347.079349</td>\n",
       "      <td>33.240885</td>\n",
       "      <td>0.348958</td>\n",
       "    </tr>\n",
       "    <tr>\n",
       "      <th>std</th>\n",
       "      <td>3.369578</td>\n",
       "      <td>30.535641</td>\n",
       "      <td>12.382158</td>\n",
       "      <td>10.476982</td>\n",
       "      <td>118.775855</td>\n",
       "      <td>6.924988</td>\n",
       "      <td>254.431659</td>\n",
       "      <td>11.760232</td>\n",
       "      <td>0.476951</td>\n",
       "    </tr>\n",
       "    <tr>\n",
       "      <th>min</th>\n",
       "      <td>0.000000</td>\n",
       "      <td>44.000000</td>\n",
       "      <td>24.000000</td>\n",
       "      <td>7.000000</td>\n",
       "      <td>14.000000</td>\n",
       "      <td>18.200000</td>\n",
       "      <td>0.100000</td>\n",
       "      <td>21.000000</td>\n",
       "      <td>0.000000</td>\n",
       "    </tr>\n",
       "    <tr>\n",
       "      <th>25%</th>\n",
       "      <td>1.000000</td>\n",
       "      <td>99.000000</td>\n",
       "      <td>64.000000</td>\n",
       "      <td>22.000000</td>\n",
       "      <td>76.250000</td>\n",
       "      <td>27.500000</td>\n",
       "      <td>165.000000</td>\n",
       "      <td>24.000000</td>\n",
       "      <td>0.000000</td>\n",
       "    </tr>\n",
       "    <tr>\n",
       "      <th>50%</th>\n",
       "      <td>3.000000</td>\n",
       "      <td>117.000000</td>\n",
       "      <td>72.000000</td>\n",
       "      <td>29.000000</td>\n",
       "      <td>125.000000</td>\n",
       "      <td>32.300000</td>\n",
       "      <td>295.500000</td>\n",
       "      <td>29.000000</td>\n",
       "      <td>0.000000</td>\n",
       "    </tr>\n",
       "    <tr>\n",
       "      <th>75%</th>\n",
       "      <td>6.000000</td>\n",
       "      <td>141.000000</td>\n",
       "      <td>80.000000</td>\n",
       "      <td>36.000000</td>\n",
       "      <td>190.000000</td>\n",
       "      <td>36.600000</td>\n",
       "      <td>527.250000</td>\n",
       "      <td>41.000000</td>\n",
       "      <td>1.000000</td>\n",
       "    </tr>\n",
       "    <tr>\n",
       "      <th>max</th>\n",
       "      <td>17.000000</td>\n",
       "      <td>199.000000</td>\n",
       "      <td>122.000000</td>\n",
       "      <td>99.000000</td>\n",
       "      <td>846.000000</td>\n",
       "      <td>67.100000</td>\n",
       "      <td>997.000000</td>\n",
       "      <td>81.000000</td>\n",
       "      <td>1.000000</td>\n",
       "    </tr>\n",
       "  </tbody>\n",
       "</table>\n",
       "</div>"
      ],
      "text/plain": [
       "       Pregnancies     Glucose  BloodPressure  SkinThickness     Insulin  \\\n",
       "count   768.000000  763.000000     733.000000     541.000000  394.000000   \n",
       "mean      3.845052  121.686763      72.405184      29.153420  155.548223   \n",
       "std       3.369578   30.535641      12.382158      10.476982  118.775855   \n",
       "min       0.000000   44.000000      24.000000       7.000000   14.000000   \n",
       "25%       1.000000   99.000000      64.000000      22.000000   76.250000   \n",
       "50%       3.000000  117.000000      72.000000      29.000000  125.000000   \n",
       "75%       6.000000  141.000000      80.000000      36.000000  190.000000   \n",
       "max      17.000000  199.000000     122.000000      99.000000  846.000000   \n",
       "\n",
       "              BMI  DiabetesPedigreeFunction         Age     Outcome  \n",
       "count  757.000000                768.000000  768.000000  768.000000  \n",
       "mean    32.457464                347.079349   33.240885    0.348958  \n",
       "std      6.924988                254.431659   11.760232    0.476951  \n",
       "min     18.200000                  0.100000   21.000000    0.000000  \n",
       "25%     27.500000                165.000000   24.000000    0.000000  \n",
       "50%     32.300000                295.500000   29.000000    0.000000  \n",
       "75%     36.600000                527.250000   41.000000    1.000000  \n",
       "max     67.100000                997.000000   81.000000    1.000000  "
      ]
     },
     "execution_count": 15,
     "metadata": {},
     "output_type": "execute_result"
    }
   ],
   "source": [
    "# Display summary statistics after replacing invalid zeros with NaN\n",
    "# NaNs are ignored by describe(), so we now see more accurate statistics\n",
    "data_copy.describe()"
   ]
  },
  {
   "cell_type": "code",
   "execution_count": 16,
   "id": "79f19d36-34d8-4f2d-b9f1-abdaa0da438c",
   "metadata": {},
   "outputs": [
    {
     "data": {
      "text/html": [
       "<div>\n",
       "<style scoped>\n",
       "    .dataframe tbody tr th:only-of-type {\n",
       "        vertical-align: middle;\n",
       "    }\n",
       "\n",
       "    .dataframe tbody tr th {\n",
       "        vertical-align: top;\n",
       "    }\n",
       "\n",
       "    .dataframe thead th {\n",
       "        text-align: right;\n",
       "    }\n",
       "</style>\n",
       "<table border=\"1\" class=\"dataframe\">\n",
       "  <thead>\n",
       "    <tr style=\"text-align: right;\">\n",
       "      <th></th>\n",
       "      <th>Pregnancies</th>\n",
       "      <th>Glucose</th>\n",
       "      <th>BloodPressure</th>\n",
       "      <th>SkinThickness</th>\n",
       "      <th>Insulin</th>\n",
       "      <th>BMI</th>\n",
       "      <th>DiabetesPedigreeFunction</th>\n",
       "      <th>Age</th>\n",
       "      <th>Outcome</th>\n",
       "    </tr>\n",
       "  </thead>\n",
       "  <tbody>\n",
       "    <tr>\n",
       "      <th>0</th>\n",
       "      <td>False</td>\n",
       "      <td>False</td>\n",
       "      <td>False</td>\n",
       "      <td>False</td>\n",
       "      <td>True</td>\n",
       "      <td>False</td>\n",
       "      <td>False</td>\n",
       "      <td>False</td>\n",
       "      <td>False</td>\n",
       "    </tr>\n",
       "    <tr>\n",
       "      <th>1</th>\n",
       "      <td>False</td>\n",
       "      <td>False</td>\n",
       "      <td>False</td>\n",
       "      <td>False</td>\n",
       "      <td>True</td>\n",
       "      <td>False</td>\n",
       "      <td>False</td>\n",
       "      <td>False</td>\n",
       "      <td>False</td>\n",
       "    </tr>\n",
       "    <tr>\n",
       "      <th>2</th>\n",
       "      <td>False</td>\n",
       "      <td>False</td>\n",
       "      <td>False</td>\n",
       "      <td>True</td>\n",
       "      <td>True</td>\n",
       "      <td>False</td>\n",
       "      <td>False</td>\n",
       "      <td>False</td>\n",
       "      <td>False</td>\n",
       "    </tr>\n",
       "    <tr>\n",
       "      <th>3</th>\n",
       "      <td>False</td>\n",
       "      <td>False</td>\n",
       "      <td>False</td>\n",
       "      <td>False</td>\n",
       "      <td>False</td>\n",
       "      <td>False</td>\n",
       "      <td>False</td>\n",
       "      <td>False</td>\n",
       "      <td>False</td>\n",
       "    </tr>\n",
       "    <tr>\n",
       "      <th>4</th>\n",
       "      <td>False</td>\n",
       "      <td>False</td>\n",
       "      <td>False</td>\n",
       "      <td>False</td>\n",
       "      <td>False</td>\n",
       "      <td>False</td>\n",
       "      <td>False</td>\n",
       "      <td>False</td>\n",
       "      <td>False</td>\n",
       "    </tr>\n",
       "    <tr>\n",
       "      <th>...</th>\n",
       "      <td>...</td>\n",
       "      <td>...</td>\n",
       "      <td>...</td>\n",
       "      <td>...</td>\n",
       "      <td>...</td>\n",
       "      <td>...</td>\n",
       "      <td>...</td>\n",
       "      <td>...</td>\n",
       "      <td>...</td>\n",
       "    </tr>\n",
       "    <tr>\n",
       "      <th>763</th>\n",
       "      <td>False</td>\n",
       "      <td>False</td>\n",
       "      <td>False</td>\n",
       "      <td>False</td>\n",
       "      <td>False</td>\n",
       "      <td>False</td>\n",
       "      <td>False</td>\n",
       "      <td>False</td>\n",
       "      <td>False</td>\n",
       "    </tr>\n",
       "    <tr>\n",
       "      <th>764</th>\n",
       "      <td>False</td>\n",
       "      <td>False</td>\n",
       "      <td>False</td>\n",
       "      <td>False</td>\n",
       "      <td>True</td>\n",
       "      <td>False</td>\n",
       "      <td>False</td>\n",
       "      <td>False</td>\n",
       "      <td>False</td>\n",
       "    </tr>\n",
       "    <tr>\n",
       "      <th>765</th>\n",
       "      <td>False</td>\n",
       "      <td>False</td>\n",
       "      <td>False</td>\n",
       "      <td>False</td>\n",
       "      <td>False</td>\n",
       "      <td>False</td>\n",
       "      <td>False</td>\n",
       "      <td>False</td>\n",
       "      <td>False</td>\n",
       "    </tr>\n",
       "    <tr>\n",
       "      <th>766</th>\n",
       "      <td>False</td>\n",
       "      <td>False</td>\n",
       "      <td>False</td>\n",
       "      <td>True</td>\n",
       "      <td>True</td>\n",
       "      <td>False</td>\n",
       "      <td>False</td>\n",
       "      <td>False</td>\n",
       "      <td>False</td>\n",
       "    </tr>\n",
       "    <tr>\n",
       "      <th>767</th>\n",
       "      <td>False</td>\n",
       "      <td>False</td>\n",
       "      <td>False</td>\n",
       "      <td>False</td>\n",
       "      <td>True</td>\n",
       "      <td>False</td>\n",
       "      <td>False</td>\n",
       "      <td>False</td>\n",
       "      <td>False</td>\n",
       "    </tr>\n",
       "  </tbody>\n",
       "</table>\n",
       "<p>768 rows × 9 columns</p>\n",
       "</div>"
      ],
      "text/plain": [
       "     Pregnancies  Glucose  BloodPressure  SkinThickness  Insulin    BMI  \\\n",
       "0          False    False          False          False     True  False   \n",
       "1          False    False          False          False     True  False   \n",
       "2          False    False          False           True     True  False   \n",
       "3          False    False          False          False    False  False   \n",
       "4          False    False          False          False    False  False   \n",
       "..           ...      ...            ...            ...      ...    ...   \n",
       "763        False    False          False          False    False  False   \n",
       "764        False    False          False          False     True  False   \n",
       "765        False    False          False          False    False  False   \n",
       "766        False    False          False           True     True  False   \n",
       "767        False    False          False          False     True  False   \n",
       "\n",
       "     DiabetesPedigreeFunction    Age  Outcome  \n",
       "0                       False  False    False  \n",
       "1                       False  False    False  \n",
       "2                       False  False    False  \n",
       "3                       False  False    False  \n",
       "4                       False  False    False  \n",
       "..                        ...    ...      ...  \n",
       "763                     False  False    False  \n",
       "764                     False  False    False  \n",
       "765                     False  False    False  \n",
       "766                     False  False    False  \n",
       "767                     False  False    False  \n",
       "\n",
       "[768 rows x 9 columns]"
      ]
     },
     "execution_count": 16,
     "metadata": {},
     "output_type": "execute_result"
    }
   ],
   "source": [
    "# Check for missing values (now represented as NaN) in the dataset after replacing zeros\n",
    "data_copy.isnull()"
   ]
  },
  {
   "cell_type": "code",
   "execution_count": 17,
   "id": "46606744-673a-4d4f-86e7-5743450b6b6d",
   "metadata": {},
   "outputs": [
    {
     "data": {
      "text/plain": [
       "Pregnancies                   0\n",
       "Glucose                       5\n",
       "BloodPressure                35\n",
       "SkinThickness               227\n",
       "Insulin                     374\n",
       "BMI                          11\n",
       "DiabetesPedigreeFunction      0\n",
       "Age                           0\n",
       "Outcome                       0\n",
       "dtype: int64"
      ]
     },
     "execution_count": 17,
     "metadata": {},
     "output_type": "execute_result"
    }
   ],
   "source": [
    "# Count the total number of missing values (NaN) per column after replacing zeros with NaN\n",
    "# This helps verify that there are no missing values left in the dataset\n",
    "data_copy.isnull().sum()"
   ]
  },
  {
   "cell_type": "markdown",
   "id": "ab7fa822-e78a-49f9-935c-d5ea6db72341",
   "metadata": {},
   "source": [
    "To handle missing values (NaN), we replace them with the **mean** of each respective column. "
   ]
  },
  {
   "cell_type": "code",
   "execution_count": 18,
   "id": "7d8e908d-2bc8-46c9-ac2d-e3cc90a29ce1",
   "metadata": {},
   "outputs": [],
   "source": [
    "data['Glucose'] = data['Glucose'].replace(0,data['Glucose'].mean())\n",
    "data['BloodPressure'] = data['BloodPressure'].replace(0,data['BloodPressure'].mean())\n",
    "data['SkinThickness'] = data['SkinThickness'].replace(0,data['SkinThickness'].mean())\n",
    "data['Insulin'] = data['Insulin'].replace(0,data['Insulin'].mean())\n",
    "data['BMI'] = data['BMI'].replace(0,data['BMI'].mean())"
   ]
  },
  {
   "cell_type": "code",
   "execution_count": 19,
   "id": "8b7adca2-9741-4420-b17c-3fa714e94a61",
   "metadata": {},
   "outputs": [
    {
     "data": {
      "text/plain": [
       "Glucose          0\n",
       "BloodPressure    0\n",
       "SkinThickness    0\n",
       "Insulin          0\n",
       "BMI              0\n",
       "dtype: int64"
      ]
     },
     "execution_count": 19,
     "metadata": {},
     "output_type": "execute_result"
    }
   ],
   "source": [
    "# Check if any zero values remain and ensure replacement was done correctly\n",
    "# This will show the count of missing values (NaN) in each column, confirming that no zero values are left\n",
    "data[['Glucose', 'BloodPressure', 'SkinThickness', 'Insulin', 'BMI']].isnull().sum()"
   ]
  },
  {
   "cell_type": "markdown",
   "id": "806103f8-2495-4479-80b8-0897c1d22b8d",
   "metadata": {},
   "source": [
    "No missing values (NaN) left in the selected columns, indicating that the replacement was successful. All zero values have been replaced with the respective column **mean**.\n",
    "\n",
    "🚀 Having completed the **data cleaning** process, we now move on to the next step: defining our features and outcome variable in order to prepare the data for model training."
   ]
  },
  {
   "cell_type": "markdown",
   "id": "9ba26332-6e0d-4641-93cd-c34d5f801223",
   "metadata": {},
   "source": [
    "## 🎯 Define features and outcome\n",
    "\n",
    "In order to build a machine learning model, we need to separate our dataset into two parts:\n",
    "\n",
    "- **The features (`X`)**: These are the input variables that the model will use to make predictions.  \n",
    "  In this case, these are all the columns *except* the outcome — the independent variables.\n",
    "\n",
    "- **The target labels (`y`)**: This is the output variable (dependent) that we are trying to predict.  \n",
    "  In our case, it's the **`Outcome`** column, which indicates whether or not a patient has diabetes (`0` or `1`).\n",
    "\n",
    "We'll assign the features to the variable `X` and the target labels to the variable `y`, which will later be used to train and evaluate the model."
   ]
  },
  {
   "cell_type": "code",
   "execution_count": 20,
   "id": "34a5455e-e173-4ca5-ac49-d51fcab4a111",
   "metadata": {},
   "outputs": [],
   "source": [
    "X = data.drop('Outcome', axis=1) # X includes all input variables except 'Outcome'\n",
    "y = data['Outcome'] # y is the target variable that we want to predict (whether a patient has diabetes)"
   ]
  },
  {
   "cell_type": "markdown",
   "id": "7cd1950a-322e-498f-ad6a-fc8a22058875",
   "metadata": {},
   "source": [
    "Now let's take a quick look at the features (X) and the target (y) to confirm that the data has been split correctly before moving on to model training.\n"
   ]
  },
  {
   "cell_type": "code",
   "execution_count": 21,
   "id": "86767072-83d1-461e-b491-5b859a54ab30",
   "metadata": {},
   "outputs": [
    {
     "data": {
      "text/html": [
       "<div>\n",
       "<style scoped>\n",
       "    .dataframe tbody tr th:only-of-type {\n",
       "        vertical-align: middle;\n",
       "    }\n",
       "\n",
       "    .dataframe tbody tr th {\n",
       "        vertical-align: top;\n",
       "    }\n",
       "\n",
       "    .dataframe thead th {\n",
       "        text-align: right;\n",
       "    }\n",
       "</style>\n",
       "<table border=\"1\" class=\"dataframe\">\n",
       "  <thead>\n",
       "    <tr style=\"text-align: right;\">\n",
       "      <th></th>\n",
       "      <th>Pregnancies</th>\n",
       "      <th>Glucose</th>\n",
       "      <th>BloodPressure</th>\n",
       "      <th>SkinThickness</th>\n",
       "      <th>Insulin</th>\n",
       "      <th>BMI</th>\n",
       "      <th>DiabetesPedigreeFunction</th>\n",
       "      <th>Age</th>\n",
       "    </tr>\n",
       "  </thead>\n",
       "  <tbody>\n",
       "    <tr>\n",
       "      <th>0</th>\n",
       "      <td>6</td>\n",
       "      <td>148.0</td>\n",
       "      <td>72.0</td>\n",
       "      <td>35.000000</td>\n",
       "      <td>79.799479</td>\n",
       "      <td>33.6</td>\n",
       "      <td>627.000</td>\n",
       "      <td>50</td>\n",
       "    </tr>\n",
       "    <tr>\n",
       "      <th>1</th>\n",
       "      <td>1</td>\n",
       "      <td>85.0</td>\n",
       "      <td>66.0</td>\n",
       "      <td>29.000000</td>\n",
       "      <td>79.799479</td>\n",
       "      <td>26.6</td>\n",
       "      <td>351.000</td>\n",
       "      <td>31</td>\n",
       "    </tr>\n",
       "    <tr>\n",
       "      <th>2</th>\n",
       "      <td>8</td>\n",
       "      <td>183.0</td>\n",
       "      <td>64.0</td>\n",
       "      <td>20.536458</td>\n",
       "      <td>79.799479</td>\n",
       "      <td>23.3</td>\n",
       "      <td>672.000</td>\n",
       "      <td>32</td>\n",
       "    </tr>\n",
       "    <tr>\n",
       "      <th>3</th>\n",
       "      <td>1</td>\n",
       "      <td>89.0</td>\n",
       "      <td>66.0</td>\n",
       "      <td>23.000000</td>\n",
       "      <td>94.000000</td>\n",
       "      <td>28.1</td>\n",
       "      <td>167.000</td>\n",
       "      <td>21</td>\n",
       "    </tr>\n",
       "    <tr>\n",
       "      <th>4</th>\n",
       "      <td>0</td>\n",
       "      <td>137.0</td>\n",
       "      <td>40.0</td>\n",
       "      <td>35.000000</td>\n",
       "      <td>168.000000</td>\n",
       "      <td>43.1</td>\n",
       "      <td>2.288</td>\n",
       "      <td>33</td>\n",
       "    </tr>\n",
       "  </tbody>\n",
       "</table>\n",
       "</div>"
      ],
      "text/plain": [
       "   Pregnancies  Glucose  BloodPressure  SkinThickness     Insulin   BMI  \\\n",
       "0            6    148.0           72.0      35.000000   79.799479  33.6   \n",
       "1            1     85.0           66.0      29.000000   79.799479  26.6   \n",
       "2            8    183.0           64.0      20.536458   79.799479  23.3   \n",
       "3            1     89.0           66.0      23.000000   94.000000  28.1   \n",
       "4            0    137.0           40.0      35.000000  168.000000  43.1   \n",
       "\n",
       "   DiabetesPedigreeFunction  Age  \n",
       "0                   627.000   50  \n",
       "1                   351.000   31  \n",
       "2                   672.000   32  \n",
       "3                   167.000   21  \n",
       "4                     2.288   33  "
      ]
     },
     "execution_count": 21,
     "metadata": {},
     "output_type": "execute_result"
    }
   ],
   "source": [
    "X.head() # Display the first few rows of the independent variables (features)"
   ]
  },
  {
   "cell_type": "code",
   "execution_count": 22,
   "id": "f6406766-ed9d-4f27-9984-53462d57c74f",
   "metadata": {},
   "outputs": [
    {
     "data": {
      "text/plain": [
       "0    1\n",
       "1    0\n",
       "2    1\n",
       "3    0\n",
       "4    1\n",
       "Name: Outcome, dtype: int64"
      ]
     },
     "execution_count": 22,
     "metadata": {},
     "output_type": "execute_result"
    }
   ],
   "source": [
    "y.head() # Display the first few rows of the dependent variable (target)"
   ]
  },
  {
   "cell_type": "markdown",
   "id": "0cad81eb-405b-428e-8aa3-c27e9ee5b44f",
   "metadata": {},
   "source": [
    "All features (X) and the target variable (y) have been successfully separated and everything works as expected.\n",
    "\n",
    "🚀 We're now ready to proceed with model training!\n"
   ]
  },
  {
   "cell_type": "markdown",
   "id": "cbd5bc8d-d0f9-48d5-894a-81f803ffcdd5",
   "metadata": {},
   "source": [
    "## ✂️ Split data into training and testing sets\n",
    "In this step, we split the dataset into two parts: one for **training** the model and one for **testing** it after training.\n",
    "\n",
    "We use train_test_split from scikit-learn to perform this split:\n",
    "\n",
    "- `test_size = 0.2` means that 20% of the data is reserved for testing, and 80% is used for training.\n",
    "- `random_state = 42` ensures that the data is split the same way each time, making the results reproducible.\n",
    "\n",
    "We will train the model using `X_train` and `y_train`, then make predictions using `X_test` on the unseen samples. To evaluate our model's performance, we will compare the predicted results with the actual values from `y_test`. This is why we split the data into a training set and a testing set."
   ]
  },
  {
   "cell_type": "code",
   "execution_count": 23,
   "id": "f39c5741-31cf-497a-ac83-bc40ee5d7697",
   "metadata": {},
   "outputs": [
    {
     "data": {
      "text/plain": [
       "((614, 8), (154, 8), (614,), (154,))"
      ]
     },
     "execution_count": 23,
     "metadata": {},
     "output_type": "execute_result"
    }
   ],
   "source": [
    "# Import the train_test_split function from scikit-learn\n",
    "from sklearn.model_selection import train_test_split\n",
    "\n",
    "# Split the data into training and testing sets (80% training, 20% testing)\n",
    "X_train, X_test, y_train, y_test = train_test_split(X, y, test_size=0.2, random_state=42)\n",
    "\n",
    "# Display the shape (number of rows and columns) of each split to confirm the operation\n",
    "X_train.shape, X_test.shape, y_train.shape, y_test.shape"
   ]
  },
  {
   "cell_type": "markdown",
   "id": "376e5a2b-c101-439a-a776-18fae2819b93",
   "metadata": {
    "jp-MarkdownHeadingCollapsed": true
   },
   "source": [
    "💡 Explanation of the shapes for the training and testing sets:\n",
    "\n",
    "- **X_train.shape = (614, 8)**:  \n",
    "  The training feature set (`X_train`) has 614 rows (samples) and 8 columns (features).\n",
    "\n",
    "- **X_test.shape = (154, 8)**:  \n",
    "  The testing feature set (`X_test`) has 154 rows (samples) and 8 columns (features).\n",
    "\n",
    "- **y_train.shape = (614,)**:  \n",
    "  The training target set (`y_train`) has 614 rows (samples) and 1 column (target values).\n",
    "\n",
    "- **y_test.shape = (154,)**:  \n",
    "  The testing target set (`y_test`) has 154 rows (samples) and 1 column (target values).\n",
    "\n",
    "This confirms that the data has been split correctly with 80% for training and 20% for testing! \n"
   ]
  },
  {
   "cell_type": "code",
   "execution_count": 24,
   "id": "7c31d75c-4e1d-4744-a7dc-f6085349bc2c",
   "metadata": {},
   "outputs": [
    {
     "data": {
      "text/plain": [
       "768"
      ]
     },
     "execution_count": 24,
     "metadata": {},
     "output_type": "execute_result"
    }
   ],
   "source": [
    "# By checking this number, we can confirm that 80% of the rows were used for training and 20% for testing, which results in 614 samples for training and 154 samples for testing.\n",
    "len(data)"
   ]
  },
  {
   "cell_type": "markdown",
   "id": "03e9ff86-4f16-469e-a16b-9b6c298b1942",
   "metadata": {},
   "source": [
    "## 🌳 Training the Decision Tree Classifier\n",
    "\n",
    "Now that our dataset is clean and properly split into training and testing sets, we can move forward with building a machine learning model. In this step, we will train a **Decision Tree Classifier** using the training data (`X_train`, `y_train`).\n",
    "\n",
    "Decision Trees are a type of supervised learning algorithm that work well for classification problems like this one. They learn patterns by creating rules based on the input features that lead to specific outcomes.\n",
    "\n",
    "We’ll use `DecisionTreeClassifier` from **scikit-learn**, a powerful library for machine learning in Python. Once the model is trained, it will be able to predict whether or not a person has diabetes based on their medical measurements.\n",
    "\n",
    "🚀 Let’s now create the model and train it on the training data!"
   ]
  },
  {
   "cell_type": "code",
   "execution_count": 25,
   "id": "af672b79-485d-439e-ada8-7c690ebace2d",
   "metadata": {},
   "outputs": [],
   "source": [
    "# Import the DecisionTreeClassifier class from scikit-learn's tree module\n",
    "from sklearn.tree import DecisionTreeClassifier\n",
    "\n",
    "# Create an instance of the Decision Tree Classifier\n",
    "# random_state ensures reproducibility of results\n",
    "clf = DecisionTreeClassifier(random_state=42)\n",
    "\n",
    "# Train (fit) the classifier using the training data\n",
    "# The model learns from X_train (features) and y_train (labels)\n",
    "clf.fit(X_train, y_train);"
   ]
  },
  {
   "cell_type": "markdown",
   "id": "a9a7a905-52ea-40ee-9672-5f8b053ee7f1",
   "metadata": {},
   "source": [
    "Now that the model has been trained, we can evaluate its performance on the test set. We’ll use the `X_test` data to make predictions, and then compare them to the actual values in `y_test`."
   ]
  },
  {
   "cell_type": "markdown",
   "id": "7ad78874-739e-4926-9a31-d9c10103160c",
   "metadata": {},
   "source": [
    "## 🤖 Making Predictions\n",
    "\n",
    "With our Decision Tree Classifier now trained on the training data, we can use it to make predictions on the **unseen test data** (`X_test`).\n",
    "\n",
    "This step is crucial because it allows us to evaluate how well the model generalizes to new, unseen data. We’ll store the predictions in a new variable called `y_pred`, which will contain the predicted labels (0 or 1) for each sample in the test set."
   ]
  },
  {
   "cell_type": "code",
   "execution_count": 26,
   "id": "9b57e458-9573-4382-b69d-904dd67f8a63",
   "metadata": {},
   "outputs": [],
   "source": [
    "# Use the trained model to make predictions on the test data\n",
    "y_pred = clf.predict(X_test)"
   ]
  },
  {
   "cell_type": "code",
   "execution_count": 27,
   "id": "bb23025f-29b3-4ccb-9292-a3fd4b6149e8",
   "metadata": {},
   "outputs": [
    {
     "data": {
      "text/plain": [
       "array([1, 0, 0, 0, 1, 1, 0, 1, 1, 1])"
      ]
     },
     "execution_count": 27,
     "metadata": {},
     "output_type": "execute_result"
    }
   ],
   "source": [
    "# Display the first few predicted values\n",
    "y_pred[:10]"
   ]
  },
  {
   "cell_type": "markdown",
   "id": "56752c5b-7a4a-46ce-96ad-ef7b84140242",
   "metadata": {},
   "source": [
    "## 📊 Evaluating Model Performance\n",
    "\n",
    "Now that we have predictions from our trained Decision Tree model, it's time to evaluate how well it performs on unseen data. Model evaluation is a key step in the machine learning workflow, as it tells us how accurate and reliable our predictions are.\n",
    "\n",
    "We will use the following evaluation metrics:\n",
    "\n",
    "- **Accuracy**: The percentage of total predictions that are correct.\n",
    "- **Precision**: Out of all the predicted positive cases, how many were actually positive.\n",
    "- **Recall**: Out of all actual positive cases, how many were correctly predicted.\n",
    "- **F1 Score**: A balance between precision and recall.\n",
    "- **Classification Report**: A summary of the above metrics for each class.\n",
    "- **Confusion Matrix**: A table that shows how many instances were correctly or incorrectly classified."
   ]
  },
  {
   "cell_type": "code",
   "execution_count": 28,
   "id": "e55ec7e4-3ba4-4216-9d82-a3962b2a6d23",
   "metadata": {},
   "outputs": [],
   "source": [
    "# Importing necessary metrics and tools from scikit-learn\n",
    "from sklearn.metrics import accuracy_score, precision_score, recall_score, f1_score, classification_report, confusion_matrix"
   ]
  },
  {
   "cell_type": "code",
   "execution_count": 29,
   "id": "96630b71-89fa-469d-b49a-2339c3576c71",
   "metadata": {},
   "outputs": [
    {
     "name": "stdout",
     "output_type": "stream",
     "text": [
      "Accuracy: 0.7012987012987013\n"
     ]
    }
   ],
   "source": [
    "# Calculate and print the accuracy of the model\n",
    "accuracy = accuracy_score(y_test, y_pred)\n",
    "print(\"Accuracy:\", accuracy)"
   ]
  },
  {
   "cell_type": "code",
   "execution_count": 30,
   "id": "70ea8b04-59f8-48b6-bfd4-93527dc93574",
   "metadata": {},
   "outputs": [
    {
     "name": "stdout",
     "output_type": "stream",
     "text": [
      "Precision: 0.5882352941176471\n"
     ]
    }
   ],
   "source": [
    "# Calculate and print the precision of the model\n",
    "precision = precision_score(y_test, y_pred)\n",
    "print(\"Precision:\", precision)"
   ]
  },
  {
   "cell_type": "code",
   "execution_count": 31,
   "id": "e696d307-bdf5-49b0-bf8f-c6eb6beb5964",
   "metadata": {},
   "outputs": [
    {
     "name": "stdout",
     "output_type": "stream",
     "text": [
      "Recall: 0.5454545454545454\n"
     ]
    }
   ],
   "source": [
    "# Calculate and print the recall of the model\n",
    "recall = recall_score(y_test, y_pred)\n",
    "print(\"Recall:\", recall)"
   ]
  },
  {
   "cell_type": "code",
   "execution_count": 32,
   "id": "88f8f91a-5504-4f66-b9ab-19920af435f9",
   "metadata": {},
   "outputs": [
    {
     "name": "stdout",
     "output_type": "stream",
     "text": [
      "F1 Score: 0.5660377358490566\n"
     ]
    }
   ],
   "source": [
    "# Calculate and print the F1-score of the model\n",
    "f1 = f1_score(y_test, y_pred)\n",
    "print(\"F1 Score:\", f1)"
   ]
  },
  {
   "cell_type": "code",
   "execution_count": 33,
   "id": "c1303adf-1492-4e16-ac44-0c43104d5572",
   "metadata": {},
   "outputs": [
    {
     "name": "stdout",
     "output_type": "stream",
     "text": [
      "\n",
      "Classification Report:\n",
      "              precision    recall  f1-score   support\n",
      "\n",
      "           0       0.76      0.79      0.77        99\n",
      "           1       0.59      0.55      0.57        55\n",
      "\n",
      "    accuracy                           0.70       154\n",
      "   macro avg       0.67      0.67      0.67       154\n",
      "weighted avg       0.70      0.70      0.70       154\n",
      "\n"
     ]
    }
   ],
   "source": [
    "# Print a detailed classification report\n",
    "print(\"\\nClassification Report:\")\n",
    "print(classification_report(y_test, y_pred))"
   ]
  },
  {
   "cell_type": "code",
   "execution_count": 34,
   "id": "10aeb5c4-09f0-4998-8a07-52416bafcaa6",
   "metadata": {},
   "outputs": [
    {
     "name": "stdout",
     "output_type": "stream",
     "text": [
      "Confusion Matrix:\n",
      "[[78 21]\n",
      " [25 30]]\n"
     ]
    }
   ],
   "source": [
    "# Print the confusion matrix\n",
    "print(\"Confusion Matrix:\")\n",
    "print(confusion_matrix(y_test, y_pred))"
   ]
  },
  {
   "cell_type": "markdown",
   "id": "d328bbe3-1064-4419-9751-447b563763f2",
   "metadata": {},
   "source": [
    "## 🧪 Testing the model on a new sample\n",
    "\n",
    "After training and evaluating our model, we can now test it on a new, unseen data sample to simulate how it would perform in a real-world scenario.\n",
    "\n",
    "Let’s imagine we have a new patient with the following medical measurements:\n",
    "\n",
    "- Pregnancies: 2\n",
    "- Glucose: 120\n",
    "- Blood Pressure: 70\n",
    "- Skin Thickness: 25\n",
    "- Insulin: 100\n",
    "- BMI: 28.0\n",
    "- Diabetes Pedigree Function: 0.5\n",
    "- Age: 32\n",
    "\n",
    "We’ll feed this data into our trained model and observe the prediction.\n",
    "To ensure compatibility and avoid warnings, we'll create a small DataFrame with the appropriate column names (just like the training data).\n",
    "\n",
    "The model will return either:\n",
    "\n",
    "- 1 → Diabetes\n",
    "- 0 → No Diabetes\n",
    "\n",
    "Let’s see what it predicts! 👇"
   ]
  },
  {
   "cell_type": "code",
   "execution_count": 35,
   "id": "4f57be11-15a5-43b9-8b99-65ad63d16c41",
   "metadata": {
    "scrolled": true
   },
   "outputs": [
    {
     "name": "stdout",
     "output_type": "stream",
     "text": [
      "Prediction: Diabetes\n"
     ]
    }
   ],
   "source": [
    "# Importing pandas library to work with dataframes\n",
    "import pandas as pd  \n",
    "\n",
    "# Define feature names based on the original dataset\n",
    "# These are the columns that correspond to the input features for prediction\n",
    "feature_names = ['Pregnancies', 'Glucose', 'BloodPressure', 'SkinThickness', \n",
    "                 'Insulin', 'BMI', 'DiabetesPedigreeFunction', 'Age']\n",
    "\n",
    "# Create new patient data as a DataFrame\n",
    "# We simulate a new patient with the given medical measurements\n",
    "new_patient_df = pd.DataFrame([[2, 120, 70, 25, 100, 28.0, 0.5, 32]], columns=feature_names)\n",
    "\n",
    "# Predict using the trained model\n",
    "# The trained decision tree model makes a prediction based on the new patient data\n",
    "prediction = clf.predict(new_patient_df)\n",
    "\n",
    "# Display the prediction result: either \"Diabetes\" (1) or \"No Diabetes\" (0)\n",
    "print(\"Prediction:\", \"Diabetes\" if prediction[0] == 1 else \"No Diabetes\")"
   ]
  },
  {
   "cell_type": "markdown",
   "id": "78ccf033-423e-4090-b33f-db9c2bddf5fe",
   "metadata": {},
   "source": [
    "## 📈 Visualizing the Confusion Matrix\n",
    "\n",
    "Now that we've made predictions and evaluated the model's performance, we can take a deeper look at the results using the **Confusion Matrix**. This matrix helps us understand how well the model is classifying the data, providing a more detailed insight into the errors the model might be making.\n",
    "\n",
    "The **Confusion Matrix** shows four key values:\n",
    "\n",
    "1. **True Positives (TP)**: The number of times the model correctly predicted the presence of diabetes.\n",
    "2. **True Negatives (TN)**: The number of times the model correctly predicted the absence of diabetes.\n",
    "3. **False Positives (FP)**: The number of times the model incorrectly predicted the presence of diabetes (a non-diabetic person was predicted as diabetic).\n",
    "4. **False Negatives (FN)**: The number of times the model incorrectly predicted the absence of diabetes (a diabetic person was predicted as non-diabetic).\n",
    "\n",
    "By visualizing the confusion matrix, we can get a better understanding of where the model is making mistakes and how it can be improved.\n",
    "\n",
    "💡 For example:\n",
    "- A high number of false negatives may suggest that the model is failing to identify diabetic patients.\n",
    "- A high number of false positives might indicate that the model is overestimating the likelihood of diabetes.\n",
    "\n",
    "🚀 Let’s now visualize this matrix to gain a clearer understanding of how the model performed on the test data."
   ]
  },
  {
   "cell_type": "code",
   "execution_count": 36,
   "id": "99ae0642-2433-4563-b9c3-2e92a52f9772",
   "metadata": {},
   "outputs": [
    {
     "data": {
      "image/png": "[encoded data removed]",
      "text/plain": [
       "<Figure size 800x600 with 2 Axes>"
      ]
     },
     "metadata": {},
     "output_type": "display_data"
    }
   ],
   "source": [
    "# Import the necessary libraries for visualization\n",
    "import matplotlib.pyplot as plt\n",
    "import seaborn as sns\n",
    "from sklearn.metrics import confusion_matrix\n",
    "\n",
    "# Generate the confusion matrix using the true labels (y_test) and predicted labels (y_pred)\n",
    "cm = confusion_matrix(y_test, y_pred)\n",
    "\n",
    "# Create a heatmap of the confusion matrix with a yellow color palette\n",
    "plt.figure(figsize=(8, 6)) \n",
    "sns.heatmap(cm, annot=True, fmt=\"d\", cmap=\"YlOrBr\", xticklabels=[\"No Diabetes\", \"Diabetes\"], yticklabels=[\"No Diabetes\", \"Diabetes\"])\n",
    "\n",
    "# Add titles and labels to make the plot more understandable\n",
    "plt.title(\"Confusion Matrix\") \n",
    "plt.xlabel(\"Predicted\")  \n",
    "plt.ylabel(\"Actual\") \n",
    "plt.show() "
   ]
  },
  {
   "cell_type": "markdown",
   "id": "e31c495e-4f39-4ad3-b937-c6b11bce1c0f",
   "metadata": {},
   "source": [
    "#### 🧠 Confusion Matrix Explanation\n",
    "\n",
    "- **True Negatives (78)**: Individuals who do not have diabetes and were correctly predicted as not having it.  \n",
    "- **False Positives (21)**: Individuals who do not have diabetes but were incorrectly predicted as having it.  \n",
    "- **False Negatives (25)**: Individuals who have diabetes but were incorrectly predicted as not having it.  \n",
    "- **True Positives (30)**: Individuals who have diabetes and were correctly predicted as having it.\n",
    "\n",
    "The confusion matrix shows that the model achieves a decent overall performance. \n",
    "\n",
    "🤔 However, the relatively **high number** of false negatives **(25)** suggests that the model occasionally fails to identify individuals who actually have diabetes. In a medical context, this is a critical consideration, as it could lead to delayed diagnosis or treatment.\n",
    "\n"
   ]
  },
  {
   "cell_type": "markdown",
   "id": "22a6922d-4ca3-4066-a406-212c8238a63d",
   "metadata": {},
   "source": [
    "## 🌳 Next Steps: Exploring Random Forest Classifier for improved accuracy\n",
    "\n",
    "Now that we have a solid understanding of the **Decision Tree Classifier**, it’s time to take it a step further. In order to improve the accuracy and robustness of the model, we will use a **Random Forest Classifier**.\n",
    "\n",
    "A **Random Forest** is an ensemble learning method that builds **multiple decision trees** and aggregates their results to improve overall accuracy. It helps to reduce overfitting and tends to perform better than a single decision tree.\n",
    "\n",
    "🚀 Let’s proceed with training and evaluating the **Random Forest Classifier** to see how it compares to the **Decision Tree** and provides more precise results."
   ]
  },
  {
   "cell_type": "code",
   "execution_count": 37,
   "id": "5e63b13b-a9a6-40da-bb75-c021a1921e40",
   "metadata": {},
   "outputs": [],
   "source": [
    "# Import the RandomForestClassifier from scikit-learn\n",
    "from sklearn.ensemble import RandomForestClassifier"
   ]
  },
  {
   "cell_type": "code",
   "execution_count": 38,
   "id": "b469f1d4-53f0-4933-88c9-37467d493180",
   "metadata": {},
   "outputs": [],
   "source": [
    "# Create an instance of the Random Forest Classifier\n",
    "# n_estimators = 100 means the forest will consist of 100 decision trees\n",
    "# random_state = 42 ensures reproducibility\n",
    "rf_model = RandomForestClassifier(n_estimators=100, random_state=42)"
   ]
  },
  {
   "cell_type": "code",
   "execution_count": 39,
   "id": "3f234930-c7f9-4253-beba-90c52fd97eeb",
   "metadata": {},
   "outputs": [],
   "source": [
    "# Train the model on the training data\n",
    "rf_model.fit(X_train, y_train);"
   ]
  },
  {
   "cell_type": "code",
   "execution_count": 40,
   "id": "adcb0b4d-7d07-4a99-897a-d5341e12b24f",
   "metadata": {},
   "outputs": [],
   "source": [
    "# Make predictions using the trained Random Forest model\n",
    "rf_y_pred = rf_model.predict(X_test)"
   ]
  },
  {
   "cell_type": "code",
   "execution_count": 41,
   "id": "9b71de65-98bf-4e1c-b8d7-1d115704f7cd",
   "metadata": {},
   "outputs": [],
   "source": [
    "# Evaluate the model's performance\n",
    "from sklearn.metrics import accuracy_score, classification_report"
   ]
  },
  {
   "cell_type": "code",
   "execution_count": 42,
   "id": "666c5f4b-dea3-4af2-b07c-601283de3d67",
   "metadata": {},
   "outputs": [
    {
     "name": "stdout",
     "output_type": "stream",
     "text": [
      "Random Forest Accuracy: 0.7402597402597403\n"
     ]
    }
   ],
   "source": [
    "# Print accuracy score\n",
    "print(\"Random Forest Accuracy:\", accuracy_score(y_test, rf_y_pred))"
   ]
  },
  {
   "cell_type": "code",
   "execution_count": 43,
   "id": "b97e77a5-b66e-4d59-a2d6-2191adbbbdde",
   "metadata": {},
   "outputs": [
    {
     "name": "stdout",
     "output_type": "stream",
     "text": [
      "Classification Report:\n",
      "               precision    recall  f1-score   support\n",
      "\n",
      "           0       0.80      0.79      0.80        99\n",
      "           1       0.63      0.65      0.64        55\n",
      "\n",
      "    accuracy                           0.74       154\n",
      "   macro avg       0.72      0.72      0.72       154\n",
      "weighted avg       0.74      0.74      0.74       154\n",
      "\n"
     ]
    }
   ],
   "source": [
    "# Detailed classification report (precision, recall, f1-score)\n",
    "print(\"Classification Report:\\n\", classification_report(y_test, rf_y_pred))"
   ]
  },
  {
   "cell_type": "markdown",
   "id": "71336fe3-34ba-43e7-87bc-c378225cfaef",
   "metadata": {},
   "source": [
    "## ⚖️ Comparing Decision Tree and Random Forest Classifiers\n",
    "\n",
    "Now that we have trained and evaluated both models — the **Decision Tree Classifier** and the **Random Forest Classifier** — it's time to compare their performance.\n",
    "\n",
    "This comparison helps us understand which model performs better on our dataset and is more suitable for real-world predictions.\n",
    "\n",
    "We will compare them based on:\n",
    "\n",
    "- **Accuracy Score**: Measures the proportion of correct predictions.\n",
    "- **Classification Report**: Includes metrics such as precision, recall, F1-score and support for each class.\n",
    "- **Confusion Matrix**: Visual representation of true vs predicted labels, showing the model’s strengths and weaknesses.\n",
    "\n",
    "The **Decision Tree** is simple and easy to interpret, but it can be prone to **overfitting**.  \n",
    "The **Random Forest**, on the other hand, combines multiple decision trees, improving **generalization** and reducing overfitting — often leading to higher accuracy and more robust predictions.\n",
    "\n",
    "🚀 Let’s now compare the two models and see which one performs better on our diabetes prediction task. "
   ]
  },
  {
   "cell_type": "markdown",
   "id": "d65cfc01-4f54-4aea-bed3-681a66568b34",
   "metadata": {},
   "source": [
    "#### 📊 Accuracy Comparison"
   ]
  },
  {
   "cell_type": "code",
   "execution_count": 44,
   "id": "657f7afe-a7ac-4432-b751-5871c96c4e5e",
   "metadata": {},
   "outputs": [
    {
     "name": "stdout",
     "output_type": "stream",
     "text": [
      "📊 Accuracy Comparison:\n",
      "Decision Tree Accuracy: 0.70\n",
      "Random Forest Accuracy: 0.74\n",
      "\n",
      "\n"
     ]
    }
   ],
   "source": [
    "# Import the accuracy_score function from scikit-learn to calculate the accuracy of the models\n",
    "from sklearn.metrics import accuracy_score\n",
    "\n",
    "# Calculate accuracy for Decision Tree\n",
    "dt_accuracy = accuracy_score(y_test, y_pred)\n",
    "\n",
    "# Calculate accuracy for Random Forest\n",
    "rf_accuracy = accuracy_score(y_test, rf_y_pred)\n",
    "\n",
    "# Print both scores for comparison\n",
    "print(\"📊 Accuracy Comparison:\")\n",
    "print(f\"Decision Tree Accuracy: {dt_accuracy:.2f}\")\n",
    "print(f\"Random Forest Accuracy: {rf_accuracy:.2f}\")\n",
    "print(\"\\n\")"
   ]
  },
  {
   "cell_type": "markdown",
   "id": "a86ba7be-5860-4e6b-b287-726e385b0e85",
   "metadata": {},
   "source": [
    "#### 📊 Classification Report Comparison"
   ]
  },
  {
   "cell_type": "markdown",
   "id": "bd60c55f-565a-4cd3-86b4-39311408115d",
   "metadata": {},
   "source": [
    "The code below prints the classification reports for both models. These reports show:\n",
    "\n",
    "- **Precision**: How many predicted positives are actually positive.\n",
    "- **Recall**: How many actual positives were correctly identified.\n",
    "- **F1-score**: A harmonic mean of precision and recall.\n",
    "- **Support**: The number of actual occurrences of each class in the dataset, providing context for the other metrics.\n",
    "\n",
    "\n",
    "It helps us evaluate the model's performance for each class (diabetic and non-diabetic)."
   ]
  },
  {
   "cell_type": "code",
   "execution_count": 45,
   "id": "cf2d88e2-a83e-4a91-897d-91a03e715cfe",
   "metadata": {},
   "outputs": [
    {
     "name": "stdout",
     "output_type": "stream",
     "text": [
      "🌲 Decision Tree Classification Report:\n",
      "\n",
      "              precision    recall  f1-score   support\n",
      "\n",
      "           0       0.76      0.79      0.77        99\n",
      "           1       0.59      0.55      0.57        55\n",
      "\n",
      "    accuracy                           0.70       154\n",
      "   macro avg       0.67      0.67      0.67       154\n",
      "weighted avg       0.70      0.70      0.70       154\n",
      "\n",
      "🌳 Random Forest Classification Report:\n",
      "\n",
      "              precision    recall  f1-score   support\n",
      "\n",
      "           0       0.80      0.79      0.80        99\n",
      "           1       0.63      0.65      0.64        55\n",
      "\n",
      "    accuracy                           0.74       154\n",
      "   macro avg       0.72      0.72      0.72       154\n",
      "weighted avg       0.74      0.74      0.74       154\n",
      "\n"
     ]
    }
   ],
   "source": [
    "# Import the classification_report function from scikit-learn to evaluate model performance\n",
    "from sklearn.metrics import classification_report\n",
    "\n",
    "# Generate and print classification report for Decision Tree\n",
    "print(\"🌲 Decision Tree Classification Report:\\n\")\n",
    "print(classification_report(y_test, y_pred))\n",
    "\n",
    "# Generate and print classification report for Random Forest\n",
    "print(\"🌳 Random Forest Classification Report:\\n\")\n",
    "print(classification_report(y_test, rf_y_pred))"
   ]
  },
  {
   "cell_type": "markdown",
   "id": "0fb68d59-4bb4-43a7-a7e8-1df7bdd626bf",
   "metadata": {},
   "source": [
    "#### 📊 Confusion Matrix Comparison\n",
    "\n",
    "After evaluating both models (Decision Tree and Random Forest) using accuracy and classification reports, we can take a deeper look at their performance with the **Confusion Matrix**. This matrix helps us to see the actual vs predicted classifications, providing insights into the number of errors made by each model.\n",
    "\n",
    "We will visualize the confusion matrices for both models side by side:\n",
    "\n",
    "- The **Decision Tree** model's confusion matrix will show how well it predicted the presence and absence of diabetes in the test data.\n",
    "- The **Random Forest** model's confusion matrix will provide a comparison to assess how much improvement we get with this ensemble method.\n",
    "\n",
    "Each matrix will highlight:\n",
    "- **True Positives (TP)**: Correct predictions of diabetes.\n",
    "- **True Negatives (TN)**: Correct predictions of no diabetes.\n",
    "- **False Positives (FP)**: Incorrect predictions where the model predicted diabetes for a non-diabetic person.\n",
    "- **False Negatives (FN)**: Incorrect predictions where the model predicted no diabetes for a diabetic person.\n",
    "\n",
    "Visualizing these matrices side by side will help us compare the effectiveness of the two models and understand where each one is making errors.\n"
   ]
  },
  {
   "cell_type": "code",
   "execution_count": 46,
   "id": "a6bce8e7-803b-414c-a8ad-c8866229c1e2",
   "metadata": {},
   "outputs": [
    {
     "data": {
      "image/png": "[encoded data removed]",
      "text/plain": [
       "<Figure size 1400x600 with 4 Axes>"
      ]
     },
     "metadata": {},
     "output_type": "display_data"
    }
   ],
   "source": [
    "import matplotlib.pyplot as plt\n",
    "import seaborn as sns\n",
    "from sklearn.metrics import confusion_matrix\n",
    "\n",
    "# Generate confusion matrix for Decision Tree\n",
    "dt_cm = confusion_matrix(y_test, y_pred)\n",
    "\n",
    "# Generate confusion matrix for Random Forest\n",
    "rf_cm = confusion_matrix(y_test, rf_y_pred)\n",
    "\n",
    "# Plot both confusion matrices side by side for comparison\n",
    "fig, axes = plt.subplots(1, 2, figsize=(14, 6))\n",
    "\n",
    "# Decision Tree Confusion Matrix\n",
    "sns.heatmap(dt_cm, annot=True, fmt=\"d\", cmap=\"Blues\", xticklabels=[\"No Diabetes\", \"Diabetes\"], yticklabels=[\"No Diabetes\", \"Diabetes\"], ax=axes[0])\n",
    "axes[0].set_title(\"Decision Tree Confusion Matrix\")\n",
    "axes[0].set_xlabel(\"Predicted\")\n",
    "axes[0].set_ylabel(\"Actual\")\n",
    "\n",
    "# Random Forest Confusion Matrix\n",
    "sns.heatmap(rf_cm, annot=True, fmt=\"d\", cmap=\"Blues\", xticklabels=[\"No Diabetes\", \"Diabetes\"], yticklabels=[\"No Diabetes\", \"Diabetes\"], ax=axes[1])\n",
    "axes[1].set_title(\"Random Forest Confusion Matrix\")\n",
    "axes[1].set_xlabel(\"Predicted\")\n",
    "axes[1].set_ylabel(\"Actual\")\n",
    "plt.show()"
   ]
  },
  {
   "cell_type": "markdown",
   "id": "c4443a0e-15ea-4521-94d0-f8b865e00b4c",
   "metadata": {},
   "source": [
    "#### ⚖️ Metrics Comparison Table\n",
    "\n",
    "To summarize and compare the performance of the **Decision Tree Classifier** and the **Random Forest Classifier**, we have created a metrics comparison table."
   ]
  },
  {
   "cell_type": "code",
   "execution_count": 47,
   "id": "ce711fe1-bd30-4718-83c3-abff9f984af2",
   "metadata": {},
   "outputs": [
    {
     "name": "stdout",
     "output_type": "stream",
     "text": [
      "                    Metric  Decision Tree  Random Forest\n",
      "0                 Accuracy       0.701299       0.740260\n",
      "1     Precision (Diabetes)       0.588235       0.631579\n",
      "2        Recall (Diabetes)       0.545455       0.654545\n",
      "3      F1-score (Diabetes)       0.566038       0.642857\n",
      "4  Precision (No Diabetes)       0.757282       0.804124\n",
      "5     Recall (No Diabetes)       0.787879       0.787879\n",
      "6   F1-score (No Diabetes)       0.772277       0.795918\n"
     ]
    }
   ],
   "source": [
    "import pandas as pd\n",
    "\n",
    "# Create a dictionary for the metrics comparison\n",
    "metrics_comparison = {\n",
    "    'Metric': ['Accuracy', 'Precision (Diabetes)', 'Recall (Diabetes)', 'F1-score (Diabetes)', 'Precision (No Diabetes)', 'Recall (No Diabetes)', 'F1-score (No Diabetes)'],\n",
    "    'Decision Tree': [dt_accuracy, classification_report(y_test, y_pred, output_dict=True)['1']['precision'], classification_report(y_test, y_pred, output_dict=True)['1']['recall'], classification_report(y_test, y_pred, output_dict=True)['1']['f1-score'], classification_report(y_test, y_pred, output_dict=True)['0']['precision'], classification_report(y_test, y_pred, output_dict=True)['0']['recall'], classification_report(y_test, y_pred, output_dict=True)['0']['f1-score']],\n",
    "    'Random Forest': [rf_accuracy, classification_report(y_test, rf_y_pred, output_dict=True)['1']['precision'], classification_report(y_test, rf_y_pred, output_dict=True)['1']['recall'], classification_report(y_test, rf_y_pred, output_dict=True)['1']['f1-score'], classification_report(y_test, rf_y_pred, output_dict=True)['0']['precision'], classification_report(y_test, rf_y_pred, output_dict=True)['0']['recall'], classification_report(y_test, rf_y_pred, output_dict=True)['0']['f1-score']]\n",
    "}\n",
    "\n",
    "# Convert the dictionary to a DataFrame for better visualization\n",
    "comparison_df = pd.DataFrame(metrics_comparison)\n",
    "\n",
    "# Display the table\n",
    "print(comparison_df)"
   ]
  },
  {
   "cell_type": "markdown",
   "id": "a0b8c3a6-ebb8-4b43-a01c-a904c7023e52",
   "metadata": {},
   "source": [
    "#### 🔍 What do we notice?\n",
    "Both models show decent performance, but the **Random Forest Classifier** consistently outperforms the Decision Tree across all metrics.\n",
    "\n",
    "| Metric                      | Decision Tree | Random Forest |\n",
    "|-----------------------------|---------------|---------------|\n",
    "| Accuracy                    | 0.7013        | 0.7403        |\n",
    "| Precision (Diabetes)        | 0.5882        | 0.6316        |\n",
    "| Recall (Diabetes)           | 0.5455        | 0.6545        |\n",
    "| F1-score (Diabetes)         | 0.5660        | 0.6429        |\n",
    "| Precision (No Diabetes)     | 0.7573        | 0.8041        |\n",
    "| Recall (No Diabetes)        | 0.7879        | 0.7879        |\n",
    "| F1-score (No Diabetes)      | 0.7723        | 0.7959        |\n",
    "\n",
    "It achieves higher accuracy (74% vs 70%), better precision, recall, and F1-scores for both diabetic and non-diabetic classes.\n",
    "This suggests that Random Forest is better at generalizing and capturing complex patterns in the data.\n"
   ]
  },
  {
   "cell_type": "markdown",
   "id": "d25b6cc2-4204-4c75-8bf0-d844b10c42eb",
   "metadata": {},
   "source": [
    "### 🎛️ Hyperparameter Tuning\n",
    "\n",
    "To further improve our model's performance, we apply **hyperparameter tuning** on the 🌳 **Random Forest Classifier** using **GridSearchCV**. This method systematically explores different combinations of model parameters to find the best possible settings.\n",
    "\n",
    "Key hyperparameters that we tune include:\n",
    "- **n_estimators**: Number of trees in the forest.  \n",
    "- **max_depth**: Maximum depth of each tree.  \n",
    "- **min_samples_split**: Minimum number of samples required to split an internal node.  \n",
    "- **min_samples_leaf**: Minimum number of samples required to be at a leaf node.  \n",
    "\n",
    "We use **5-fold cross-validation** to systematically explore different combinations and select the best settings to optimize model performance."
   ]
  },
  {
   "cell_type": "code",
   "execution_count": 48,
   "id": "594a6ad9-2d6c-4d71-91e9-2e15e5068e43",
   "metadata": {},
   "outputs": [
    {
     "name": "stdout",
     "output_type": "stream",
     "text": [
      "Best parameters: {'max_depth': None, 'min_samples_leaf': 4, 'min_samples_split': 2, 'n_estimators': 100}\n"
     ]
    }
   ],
   "source": [
    "# Importing the necessary library for hyperparameter tuning\n",
    "from sklearn.model_selection import GridSearchCV\n",
    "\n",
    "# Define the hyperparameters to tune\n",
    "param_grid = {\n",
    "    'n_estimators': [100, 200, 300],  # Number of trees in the forest\n",
    "    'max_depth': [None, 10, 20, 30],  # Maximum depth of the trees\n",
    "    'min_samples_split': [2, 5, 10],  # Minimum samples required to split an internal node\n",
    "    'min_samples_leaf': [1, 2, 4]     # Minimum samples required at a leaf node\n",
    "}\n",
    "\n",
    "# Create GridSearchCV object\n",
    "grid_search = GridSearchCV(estimator=rf_model, param_grid=param_grid, cv=5, n_jobs=-1)\n",
    "\n",
    "# Fit the model with hyperparameter tuning\n",
    "grid_search.fit(X_train, y_train)\n",
    "\n",
    "# Display best parameters\n",
    "print(f'Best parameters: {grid_search.best_params_}')"
   ]
  },
  {
   "cell_type": "markdown",
   "id": "4b08cae0-20da-49a9-ab27-37430096e38b",
   "metadata": {},
   "source": [
    "#### 🔍 What do we notice?\n",
    "\n",
    "- **max_depth**: `None` – The trees will be expanded until they contain less than the minimum number of samples required to split a node.\n",
    "- **min_samples_leaf**: `4` – The minimum number of samples required to be at a leaf node is 4.\n",
    "- **min_samples_split**: `2` – The minimum number of samples required to split an internal node is 2.\n",
    "- **n_estimators**: `100` – The number of trees in the forest will be 100.\n",
    "\n",
    "These values were selected because they provide the best cross-validation performance. We will now use these parameters to retrain the model and evaluate its performance on the test set.\n"
   ]
  },
  {
   "cell_type": "markdown",
   "id": "610e17ff-f187-455e-b0df-9f9d538daf14",
   "metadata": {},
   "source": [
    "## 🧩 Feature Importance\n",
    "\n",
    "In this step, we will explore the **Feature Importance** of the Random Forest model. Feature importance helps us understand which features (or variables) contribute the most to the model's predictions.\n",
    "\n",
    "🚀 We will extract the feature importances from the trained Random Forest model and visualize them."
   ]
  },
  {
   "cell_type": "code",
   "execution_count": 49,
   "id": "2611ff36-13d0-4d70-b13b-b29112cd25e2",
   "metadata": {},
   "outputs": [
    {
     "name": "stdout",
     "output_type": "stream",
     "text": [
      "                    Feature  Importance\n",
      "1                   Glucose    0.263499\n",
      "5                       BMI    0.164758\n",
      "7                       Age    0.133076\n",
      "6  DiabetesPedigreeFunction    0.120984\n",
      "2             BloodPressure    0.086323\n",
      "4                   Insulin    0.081511\n",
      "0               Pregnancies    0.076519\n",
      "3             SkinThickness    0.073331\n"
     ]
    }
   ],
   "source": [
    "# Get feature importances\n",
    "feature_importances = rf_model.feature_importances_\n",
    "\n",
    "# Create a DataFrame to show the feature importances\n",
    "feature_importances_df = pd.DataFrame({\n",
    "    'Feature': X.columns,\n",
    "    'Importance': feature_importances\n",
    "})\n",
    "\n",
    "# Sort by importance\n",
    "feature_importances_df = feature_importances_df.sort_values(by='Importance', ascending=False)\n",
    "\n",
    "# Print feature importance\n",
    "print(feature_importances_df)"
   ]
  },
  {
   "cell_type": "code",
   "execution_count": 50,
   "id": "d5a04102-7866-4790-b279-aaa4854af9ba",
   "metadata": {},
   "outputs": [
    {
     "data": {
      "image/png": "[encoded data removed]",
      "text/plain": [
       "<Figure size 1000x600 with 1 Axes>"
      ]
     },
     "metadata": {},
     "output_type": "display_data"
    }
   ],
   "source": [
    "plt.figure(figsize=(10, 6))  \n",
    "plt.barh(feature_importances_df['Feature'], feature_importances_df['Importance']) # Create horizontal bar plot\n",
    "\n",
    "# Add titles and labels to make the plot more understandable\n",
    "plt.title('Feature Importance of Random Forest Model') \n",
    "plt.xlabel('Importance') \n",
    "plt.gca().invert_yaxis() # Invert y-axis to display the most important features at the top\n",
    "plt.show()  "
   ]
  },
  {
   "cell_type": "markdown",
   "id": "d664128b-3c90-4143-81c3-740428f05959",
   "metadata": {},
   "source": [
    "## 🔄 Cross-Validation\n",
    "\n",
    "**Cross-validation** helps us check that our model really learns useful patterns and not just the specific data we gave it. Here’s how it works in simple steps:\n",
    "\n",
    "1. **Split** the data into K equal parts (called “folds”).  \n",
    "2. **Repeat** K times:  \n",
    "   - Train the model on K–1 parts.  \n",
    "   - Test it on the 1 part left out.  \n",
    "3. **Average** the K test results to get a single score.\n",
    "\n",
    "By doing this, we see how well the model does on different slices of data, so we avoid over-relying on one random split."
   ]
  },
  {
   "cell_type": "code",
   "execution_count": 51,
   "id": "08daaabc-3634-42c4-9371-45abfdcb2b7e",
   "metadata": {},
   "outputs": [
    {
     "name": "stdout",
     "output_type": "stream",
     "text": [
      "Cross-validation scores: [0.72357724 0.81300813 0.7398374  0.74796748 0.76229508]\n",
      "Mean cross-validation score: 0.7573\n"
     ]
    }
   ],
   "source": [
    "# Importing the necessary module for cross-validation\n",
    "from sklearn.model_selection import cross_val_score\n",
    "\n",
    "# Perform cross-validation\n",
    "# Here, we use 5-fold cross-validation, which means the data will be split into 5 parts.\n",
    "cv_scores = cross_val_score(rf_model, X_train, y_train, cv=5)\n",
    "\n",
    "# Display the cross-validation scores for each fold\n",
    "print(f'Cross-validation scores: {cv_scores}')\n",
    "\n",
    "# Calculate and display the mean of the cross-validation scores for an overall performance estimate\n",
    "print(f'Mean cross-validation score: {cv_scores.mean():.4f}')"
   ]
  },
  {
   "cell_type": "markdown",
   "id": "907b64df-75c6-4631-a71e-b4eeb41fcfd2",
   "metadata": {},
   "source": [
    "#### 🔍 What do we notice?\n",
    "\n",
    "The cross-validation process was performed using 5 folds, and the accuracy scores for each fold are as follows:\n",
    "\n",
    "- **Fold 1**: 0.7236\n",
    "- **Fold 2**: 0.8130\n",
    "- **Fold 3**: 0.7398\n",
    "- **Fold 4**: 0.7480\n",
    "- **Fold 5**: 0.7623\n",
    "\n",
    "The **mean cross-validation score** is **0.7573**, which represents the average accuracy of the model across all the folds.\n",
    "\n",
    "The model shows a good level of performance, with the scores ranging between 0.7236 and 0.8130. Despite the fluctuations, the mean score suggests that the model has consistent performance and is likely to generalize well to unseen data.\n",
    "\n",
    "💡 Overall, the cross-validation results indicate that the model is robust and doesn't overfit, making it a reliable choice for predicting new data.\n"
   ]
  },
  {
   "cell_type": "markdown",
   "id": "b314c0c6-c580-4c5e-9803-81864e5764d0",
   "metadata": {},
   "source": [
    "## 📈 ROC Curve and AUC\n",
    "\n",
    "🎨 The **ROC Curve** is a graph that shows how well a classification model works. It compares the **True Positive Rate (TPR)** (how many actual positives are correctly identified) to the **False Positive Rate (FPR)** (how many negatives are wrongly identified as positives) at different decision thresholds. The curve helps us see how well the model separates the two classes (e.g., diabetes vs no diabetes).\n",
    "\n",
    "🎨 The **AUC** (Area Under the Curve) tells us how good the model is at making the right predictions. A higher AUC means the model is better at distinguishing between the two classes. An AUC of 1 means perfect predictions, while 0.5 means the model is no better than random guessing.\n",
    "\n",
    "🚀 In this step, we will plot the ROC curve and calculate the AUC to understand how well the model separates the classes."
   ]
  },
  {
   "cell_type": "code",
   "execution_count": 52,
   "id": "702e9790-ba59-49e1-ad60-55e067e90328",
   "metadata": {},
   "outputs": [
    {
     "data": {
      "image/png": "[encoded data removed]",
      "text/plain": [
       "<Figure size 800x600 with 1 Axes>"
      ]
     },
     "metadata": {},
     "output_type": "display_data"
    }
   ],
   "source": [
    "from sklearn.metrics import roc_curve, auc\n",
    "import matplotlib.pyplot as plt\n",
    "\n",
    "# Compute ROC curve and AUC\n",
    "fpr, tpr, thresholds = roc_curve(y_test, rf_model.predict_proba(X_test)[:,1])\n",
    "roc_auc = auc(fpr, tpr)\n",
    "\n",
    "# Plot ROC curve\n",
    "plt.figure(figsize=(8, 6))\n",
    "plt.plot(fpr, tpr, color='blue', label=f'ROC curve (area = {roc_auc:.2f})')\n",
    "plt.plot([0, 1], [0, 1], color='gray', linestyle='--')\n",
    "\n",
    "# Add titles and labels to make the plot more understandable\n",
    "plt.xlabel('False Positive Rate')\n",
    "plt.ylabel('True Positive Rate')\n",
    "plt.title('Receiver Operating Characteristic Curve')\n",
    "plt.legend(loc='lower right')\n",
    "plt.show()"
   ]
  },
  {
   "cell_type": "markdown",
   "id": "9f99be9a-520f-4990-ab9c-a4e27b880785",
   "metadata": {},
   "source": [
    "#### 🔍 What do we notice?\n",
    "\n",
    "The **ROC curve** shows how well the model distinguishes between the two classes (positive and negative). It compares the **True Positive Rate (TPR)** with the **False Positive Rate (FPR)**. The closer the curve is to the top-left corner, the better the model.\n",
    "\n",
    "The **AUC (Area Under the Curve)** tells us the overall performance of the model. A perfect model would have an AUC of 1.0, while a random model would have an AUC of 0.5. The higher the AUC, the better the model is at separating the classes.\n",
    "\n",
    "**AUC Value**: The AUC of the ROC curve is around **0.82**. This means the model is performing better than random, but there's still room to improve. An AUC above 0.7 is generally considered good, with 1.0 being ideal.\n",
    "\n",
    "**Random Model Line**: The dashed line shows the performance of a random model. Our model's curve should be above this line for it to be considered good.\n"
   ]
  },
  {
   "cell_type": "markdown",
   "id": "718bcacc-bda2-4324-bf50-a7527bb65235",
   "metadata": {},
   "source": [
    "## 📈 Validation Curve for 'n_estimators'\n",
    "\n",
    "In this step, we are using a **validation curve** to evaluate how the performance of our **Random Forest** model changes as we vary the number of estimators (trees). This hyperparameter controls the number of trees in the forest, and tuning it can have a significant impact on model performance.\n",
    "\n",
    "- **Training Scores**: We observe how well the model performs on the training data for each value of `n_estimators`.\n",
    "- **Test Scores**: We also observe how well the model performs on unseen (test) data for each value of `n_estimators`.\n",
    "\n",
    "The **ideal point** is where the test score is highest. This suggests the model is well-tuned, balancing between fitting the data and avoiding overfitting. Typically, the point where the test score plateaus is the optimal number of estimators."
   ]
  },
  {
   "cell_type": "code",
   "execution_count": 53,
   "id": "09713c77-98ec-4497-90c3-93a37f537bfc",
   "metadata": {},
   "outputs": [
    {
     "data": {
      "image/png": "[encoded data removed]",
      "text/plain": [
       "<Figure size 640x480 with 1 Axes>"
      ]
     },
     "metadata": {},
     "output_type": "display_data"
    }
   ],
   "source": [
    "from sklearn.model_selection import validation_curve\n",
    "import matplotlib.pyplot as plt\n",
    "\n",
    "# Define the range of values for the 'n_estimators' hyperparameter to test\n",
    "param_range = [1, 10, 100, 1000]\n",
    "\n",
    "# Calculate training and test scores for different values of 'n_estimators'\n",
    "train_scores, test_scores = validation_curve(\n",
    "    RandomForestClassifier(),  # Model we are testing (Random Forest Classifier)\n",
    "    X_train,  # Features for training\n",
    "    y_train,  # Target variable\n",
    "    param_name=\"n_estimators\",  # The hyperparameter to vary\n",
    "    param_range=param_range,  # Values to test for the hyperparameter\n",
    "    cv=5  # Cross-validation with 5 folds\n",
    ")\n",
    "\n",
    "# Plot the mean training and test scores for each value of 'n_estimators'\n",
    "plt.plot(param_range, train_scores.mean(axis=1), label=\"Train score\")  # Mean training score\n",
    "plt.plot(param_range, test_scores.mean(axis=1), label=\"Test score\")  # Mean test score\n",
    "\n",
    "# Add titles and labels to make the plot more understandable\n",
    "plt.xlabel('Number of Estimators')\n",
    "plt.ylabel('Score')\n",
    "plt.title('Validation Curve')\n",
    "plt.legend()\n",
    "plt.show()"
   ]
  },
  {
   "cell_type": "markdown",
   "id": "6cb0d6d6-4ac5-47f7-84f9-9171a1dd5deb",
   "metadata": {},
   "source": [
    "## 🏁 Evaluation and Conclusion\n",
    "\n",
    "After conducting multiple evaluations, we have derived the following results for the model:\n",
    "\n",
    "- **Accuracy**: The model achieved an accuracy of **0.740260**, indicating how well the model's predictions match the true labels.\n",
    "- **Precision (Diabetes)**: For the class \"Diabetes,\" the precision was **0.631579**, which reflects how many of the predicted positive cases were actually positive.\n",
    "- **Recall (Diabetes)**: The recall for the class \"Diabetes\" is **0.654545**, showing the model's ability to correctly identify all positive cases.\n",
    "- **AUC**: The **AUC (Area Under the Curve)** of the ROC curve was **0.82**, summarizing the model's overall performance in distinguishing between the positive and negative classes.\n",
    "- **Cross-validation score**: The mean cross-validation score was **0.7573**, which indicates the model's generalization ability across different splits of the dataset.\n",
    "\n",
    "### 🚀 Conclusion\n",
    "\n",
    "Based on these evaluation metrics, our Random Forest model demonstrates solid predictive capability for identifying individuals at risk of Type 2 diabetes. An accuracy of 0.74 indicates that nearly three-quarters of all predictions are correct, while a diabetes-specific precision of 0.63 and recall of 0.65 show a balanced ability to both identify true positive cases and limit false alarms. The AUC of 0.82 further confirms that the model distinguishes well between diabetic and non-diabetic patients. Finally, a cross-validation score of 0.76 suggests that this performance is consistent across different data splits and not due to chance. \n",
    "\n",
    "💡 All in all, these results suggest that the model has the potential to be a dependable tool for early detection of diabetes risk in practical healthcare environments.\n"
   ]
  },
  {
   "cell_type": "markdown",
   "id": "10705123-b6da-4cfb-8309-ec135ac880c1",
   "metadata": {},
   "source": [
    "## 💾 Saving the Model with Joblib\n",
    "\n",
    "In this step, we save the trained **RandomForestClassifier** model using the **joblib** library. Saving a trained model allows us to reuse it later without needing to retrain it each time we want to make predictions.\n",
    "\n",
    "**Joblib** allows us to efficiently store models in a file format (`.pkl`) that can be reloaded later for making predictions.\n"
   ]
  },
  {
   "cell_type": "code",
   "execution_count": 54,
   "id": "396b448c-4798-441a-a394-b25a5f3d1588",
   "metadata": {},
   "outputs": [
    {
     "data": {
      "text/plain": [
       "['random_forest_model.pkl']"
      ]
     },
     "execution_count": 54,
     "metadata": {},
     "output_type": "execute_result"
    }
   ],
   "source": [
    "# Import the joblib library\n",
    "import joblib\n",
    "\n",
    "# Assuming that rf_model is already trained, otherwise, you can train it first:\n",
    "# Example: rf_model = RandomForestClassifier() \n",
    "# rf_model.fit(X_train, y_train)\n",
    "\n",
    "# Save the trained model to a .pkl file using joblib\n",
    "joblib.dump(rf_model, 'random_forest_model.pkl')"
   ]
  },
  {
   "cell_type": "markdown",
   "id": "6ec01f58-b0eb-4036-8fa7-22b826b691df",
   "metadata": {},
   "source": [
    "## 📂 Loading the Saved Model\n",
    "\n",
    "Once you have saved the model using **joblib**, you can easily load it back whenever you need it without having to retrain it.\n",
    "\n",
    "The following code shows how to load the model from the `.pkl` file and use it for predictions. "
   ]
  },
  {
   "cell_type": "code",
   "execution_count": 55,
   "id": "b17d01e8-074f-4c3b-ab55-7a9273df75f3",
   "metadata": {},
   "outputs": [],
   "source": [
    "# Load the saved model from the .pkl file\n",
    "loaded_rf_model = joblib.load('random_forest_model.pkl')\n",
    "\n",
    "# Use the loaded model to make predictions\n",
    "# Example: predictions = loaded_rf_model.predict(X_test)\n",
    "\n",
    "# The model is now ready to make predictions on new data."
   ]
  }
 ],
 "metadata": {
  "kernelspec": {
   "display_name": "Python 3 (ipykernel)",
   "language": "python",
   "name": "python3"
  },
  "language_info": {
   "codemirror_mode": {
    "name": "ipython",
    "version": 3
   },
   "file_extension": ".py",
   "mimetype": "text/x-python",
   "name": "python",
   "nbconvert_exporter": "python",
   "pygments_lexer": "ipython3",
   "version": "3.13.1"
  }
 },
 "nbformat": 4,
 "nbformat_minor": 5
}
